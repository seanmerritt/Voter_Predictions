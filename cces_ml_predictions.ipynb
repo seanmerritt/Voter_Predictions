{
 "metadata": {
  "language_info": {
   "codemirror_mode": {
    "name": "ipython",
    "version": 3
   },
   "file_extension": ".py",
   "mimetype": "text/x-python",
   "name": "python",
   "nbconvert_exporter": "python",
   "pygments_lexer": "ipython3",
   "version": "3.8.5"
  },
  "orig_nbformat": 4,
  "kernelspec": {
   "name": "python3",
   "display_name": "Python 3.8.5 64-bit ('base': conda)"
  },
  "interpreter": {
   "hash": "1fa7f286545b114b89e17c06090069af0979a10abd62da0df5bd3c88a9cb7f23"
  }
 },
 "nbformat": 4,
 "nbformat_minor": 2,
 "cells": [
  {
   "cell_type": "code",
   "execution_count": 37,
   "metadata": {},
   "outputs": [],
   "source": [
    "import pandas as pd\n",
    "import numpy as np\n",
    "from sklearn.linear_model import LogisticRegression\n",
    "from sklearn.tree import DecisionTreeClassifier\n",
    "from sklearn.svm import SVC\n",
    "from sklearn.neighbors import KNeighborsClassifier\n",
    "from sklearn.ensemble import VotingClassifier, AdaBoostClassifier, GradientBoostingClassifier, RandomForestClassifier\n",
    "from sklearn.model_selection import GridSearchCV\n",
    "from sklearn.decomposition import PCA\n",
    "from sklearn.metrics import roc_curve, auc, confusion_matrix, accuracy_score, roc_auc_score\n",
    "from sklearn.model_selection import train_test_split\n",
    "from sklearn.model_selection import cross_val_score\n",
    "import matplotlib.pylab as plt\n",
    "%matplotlib inline\n",
    "from matplotlib.pylab import rcParams\n",
    "rcParams['figure.figsize'] = 12, 4\n",
    "from xgboost.sklearn import XGBClassifier"
   ]
  },
  {
   "cell_type": "code",
   "execution_count": 3,
   "metadata": {},
   "outputs": [],
   "source": [
    "def ensemble_params(X_train, y_train, CV = 5, boosted = True):\n",
    "    ## Logistic regression C\n",
    "    log = LogisticRegression( max_iter = 1000)\n",
    "    params = {'C': [1.0,100.0]}\n",
    "    grid_log = GridSearchCV(log, params, cv = CV)\n",
    "    grid_log.fit(X_train, y_train)\n",
    "    log_C = grid_log.best_params_['C']\n",
    "    print(\"Log complete\")\n",
    "    ## K-neirest neighbor\n",
    "    KNN = KNeighborsClassifier()\n",
    "    params = {'n_neighbors': [3,4,5,6,7,8,9,10]}\n",
    "    grid_KNN = GridSearchCV(KNN, params, cv = CV)\n",
    "    grid_KNN.fit(X_train, y_train)\n",
    "    k_neighbors = grid_KNN.best_params_['n_neighbors']\n",
    "    print(\"knn complete\")\n",
    "    ## Decision tree max depth\n",
    "    tree = DecisionTreeClassifier()\n",
    "    params = {'max_depth': [3,4,5,6,7,8,9,10]}\n",
    "    grid_tree = GridSearchCV(tree, params, cv = CV)\n",
    "    grid_tree.fit(X_train, y_train)\n",
    "    tree_max_depth = grid_tree.best_params_['max_depth']\n",
    "    print(\"tree complete\")\n",
    "    ## Random forest max depth\n",
    "    rnd = RandomForestClassifier()\n",
    "    params = {'max_depth': [3,4,5,6,7,8,9,10]}\n",
    "    grid_rnd = GridSearchCV(rnd, params, cv = CV)\n",
    "    grid_rnd.fit(X_train, y_train)\n",
    "    rnd_max_depth = grid_rnd.best_params_['max_depth']\n",
    "    print(\"rnd complete\")\n",
    "    ## Support vector machine\n",
    "    svm = SVC(probability= True)\n",
    "    params = {'C':[1,2,3,4,5]} \n",
    "    grid_svm = GridSearchCV(svm, params, cv = CV)\n",
    "    grid_svm.fit(X_train, y_train)\n",
    "    svm_C = grid_svm.best_params_['C']\n",
    "    print(\"svm complete\")\n",
    "    if boosted:\n",
    "        ## Gradient boosting\n",
    "        gbc = GradientBoostingClassifier( learning_rate=0.1)\n",
    "        params = {'n_estimators': [50,75,100,125,150],\n",
    "        'max_depth':[3,4,5,6,7,8,9,10,11,12]} \n",
    "        grid_gbc = GridSearchCV(gbc, params, cv = CV)\n",
    "        grid_gbc.fit(X_train, y_train)\n",
    "        gbc_n_estimators = grid_gbc.best_params_['n_estimators']\n",
    "        gbc_max_depth = grid_gbc.best_params_['max_depth']\n",
    "        print(\"GBC complete\")\n",
    "        ## ADA boosting\n",
    "        ada = AdaBoostClassifier(DecisionTreeClassifier(max_depth=10), algorithm= 'SAMME.R', learning_rate=0.1)\n",
    "        params = {'n_estimators': [50,75,100,125,150]} \n",
    "        grid_ada = GridSearchCV(ada, params, cv = CV)\n",
    "        grid_ada.fit(X_train, y_train)\n",
    "        ada_n_estimators = grid_ada.best_params_['n_estimators']\n",
    "        print(\"ADA complete\")\n",
    "    else:\n",
    "        gbc_n_estimators = 0 \n",
    "        gbc_max_depth = 0\n",
    "        ada_n_estimators = 0\n",
    "\n",
    "    return {'log_C':log_C, 'k_neighbors':k_neighbors, 'tree_max_depth':tree_max_depth, 'rnd_max_depth':rnd_max_depth, 'svm_C':svm_C, 'gbc_n_estimators':gbc_n_estimators, 'gbc_max_depth':gbc_max_depth, 'ada_n_estimators':ada_n_estimators}"
   ]
  },
  {
   "cell_type": "code",
   "execution_count": 3,
   "metadata": {},
   "outputs": [],
   "source": [
    "def fit_ensemble(X_train, y_train, X_test, log_C, k_neighbors, tree_max_depth, rnd_max_depth, svm_C, gbc_n_estimators, gbc_max_depth, ada_n_estimators, boosted = True):\n",
    "    if boosted:\n",
    "        log_v = LogisticRegression( max_iter = 1000, C = log_C)\n",
    "        knn_v = KNeighborsClassifier(n_neighbors = k_neighbors, n_jobs= -1)\n",
    "        tree_v = DecisionTreeClassifier(max_depth = tree_max_depth)\n",
    "        rnd_v = RandomForestClassifier(max_depth= rnd_max_depth)\n",
    "        svm_v = SVC(probability= True, C = svm_C)\n",
    "        gbc_v = GradientBoostingClassifier( learning_rate=0.1, n_estimators = gbc_n_estimators,  \n",
    "                                            max_depth = gbc_max_depth)\n",
    "        ada_v = AdaBoostClassifier(DecisionTreeClassifier(max_depth=10), \n",
    "                                                algorithm= 'SAMME.R', \n",
    "                                                    learning_rate=0.1,\n",
    "                                                    n_estimators= ada_n_estimators)\n",
    "\n",
    "        voter_c = VotingClassifier(estimators= [('lr',log_v), \n",
    "            ('KNN', knn_v),\n",
    "            ('Tree',tree_v),\n",
    "            ('rf',rnd_v),\n",
    "            ('SVM',svm_v),\n",
    "            ('boosted',gbc_v),\n",
    "            ('ADA',ada_v)\n",
    "            ], voting = 'soft')\n",
    "    else:\n",
    "        log_v = LogisticRegression( max_iter = 1000, C = log_C)\n",
    "        knn_v = KNeighborsClassifier(n_neighbors = k_neighbors)\n",
    "        tree_v = DecisionTreeClassifier(max_depth = tree_max_depth)\n",
    "        rnd_v = RandomForestClassifier(max_depth= rnd_max_depth)\n",
    "        svm_v = SVC(probability= True, C = svm_C)\n",
    "\n",
    "        voter_c = VotingClassifier(estimators= [('lr',log_v), \n",
    "            ('KNN', knn_v),\n",
    "            ('Tree',tree_v),\n",
    "            ('rf',rnd_v),\n",
    "            ('SVM',svm_v)\n",
    "            ], voting = 'soft') \n",
    "            \n",
    "    voter_c.fit(X_train, y_train)   \n",
    "    y_preds = voter_c.predict(X_test)\n",
    "    return y_preds"
   ]
  },
  {
   "cell_type": "code",
   "execution_count": 2,
   "metadata": {},
   "outputs": [],
   "source": [
    "def METRICS(y_test, y_preds):\n",
    "    cm = confusion_matrix(y_test,y_preds)\n",
    "    Accuracy = [cm[0][0]/(cm[0][0] + cm[0][1]),cm[1][1]/(cm[1][0] + cm[1][1])]\n",
    "    fr, sr, threshold = roc_curve(y_test,y_preds)\n",
    "    AUC = auc(fr,sr)\n",
    "    print(f\"Non-voter accuracy = {round(Accuracy[0], 2)}. Voter accuracy = {round(Accuracy[1], 2)}. Total = {round(sum(Accuracy)/2, 2)}. AUC = {round(AUC, 2)}\")"
   ]
  },
  {
   "cell_type": "code",
   "execution_count": 5,
   "metadata": {},
   "outputs": [],
   "source": [
    "def compile_and_test(X_train, y_train, X_test, y_test, cv = 5):\n",
    "    log_C, k_neighbors, tree_max_depth, rnd_max_depth, svm_C, gbc_n_estimators, gbc_max_depth, ada_n_estimators = ensemble_params(X_train, y_train, CV = cv)\n",
    "    predictions = fit_ensemble(X_train, y_train, X_test, log_C, k_neighbors, tree_max_depth, rnd_max_depth, svm_C, gbc_n_estimators, gbc_max_depth, ada_n_estimators)\n",
    "    METRICS(y_test, predictions)"
   ]
  },
  {
   "cell_type": "code",
   "execution_count": 3,
   "metadata": {},
   "outputs": [],
   "source": [
    "data = pd.read_csv(r'C:\\Users\\seanm\\Documents\\Research\\Voter_Predictions\\Data and Preperation\\CCES data\\clean_cces_data.csv')\n",
    "data = data.dropna()\n",
    "y = data['voted']\n",
    "X = data.iloc[:, 2:]"
   ]
  },
  {
   "cell_type": "code",
   "execution_count": 4,
   "metadata": {},
   "outputs": [],
   "source": [
    "X_train, X_test, y_train, y_test = train_test_split(X,y, test_size= .25, random_state= 123)"
   ]
  },
  {
   "cell_type": "code",
   "execution_count": 9,
   "metadata": {},
   "outputs": [],
   "source": [
    "log = KNeighborsClassifier(n_jobs=-1)\n",
    "log.fit(X_train, y_train)\n",
    "y_preds = log.predict(X_test)"
   ]
  },
  {
   "cell_type": "code",
   "execution_count": 9,
   "metadata": {},
   "outputs": [],
   "source": [
    "gbc = GradientBoostingClassifier(max_depth=6,  learning_rate=0.1,  n_estimators= 150)\n",
    "gbc.fit(X_train,y_train)\n",
    "y_preds = gbc.predict(X_test)"
   ]
  },
  {
   "cell_type": "code",
   "execution_count": 10,
   "metadata": {},
   "outputs": [
    {
     "output_type": "stream",
     "name": "stdout",
     "text": [
      "Non-voter accuracy = 0.57. Voter accuracy = 0.83. Total = 0.7. AUC = 0.7\n"
     ]
    }
   ],
   "source": [
    "METRICS(y_test, y_preds)"
   ]
  },
  {
   "cell_type": "code",
   "execution_count": null,
   "metadata": {},
   "outputs": [
    {
     "output_type": "error",
     "ename": "Error",
     "evalue": "Pip module Unable to parse debugpy output, please log an issue with https://github.com/microsoft/vscode-jupyter is required for debugging cells. You will need to install it to debug cells.",
     "traceback": [
      "Error: Pip module Unable to parse debugpy output, please log an issue with https://github.com/microsoft/vscode-jupyter is required for debugging cells. You will need to install it to debug cells.",
      "at _.parseConnectInfo (c:\\Users\\seanm\\.vscode\\extensions\\ms-toolsai.jupyter-2021.6.999662501\\out\\client\\extension.js:90:160684)",
      "at _.connectToLocal (c:\\Users\\seanm\\.vscode\\extensions\\ms-toolsai.jupyter-2021.6.999662501\\out\\client\\extension.js:90:161211)",
      "at async _.connect (c:\\Users\\seanm\\.vscode\\extensions\\ms-toolsai.jupyter-2021.6.999662501\\out\\client\\extension.js:90:159088)",
      "at async _.startDebugSession (c:\\Users\\seanm\\.vscode\\extensions\\ms-toolsai.jupyter-2021.6.999662501\\out\\client\\extension.js:90:158235)",
      "at async D.submitCode (c:\\Users\\seanm\\.vscode\\extensions\\ms-toolsai.jupyter-2021.6.999662501\\out\\client\\extension.js:37:636585)",
      "at async D.handleRunByLine (c:\\Users\\seanm\\.vscode\\extensions\\ms-toolsai.jupyter-2021.6.999662501\\out\\client\\extension.js:37:624528)"
     ]
    }
   ],
   "source": [
    "## Logistic regression C\n",
    "log = LogisticRegression( max_iter = 1000)\n",
    "params = {'C': [1.0,100.0]}\n",
    "grid_log = GridSearchCV(log, params, cv = CV)\n",
    "grid_log.fit(X_train, y_train)\n",
    "log_C = grid_log.best_params_['C']\n",
    "print(\"Log complete\")"
   ]
  },
  {
   "cell_type": "code",
   "execution_count": 25,
   "metadata": {},
   "outputs": [
    {
     "output_type": "stream",
     "name": "stdout",
     "text": [
      "tree complete\n"
     ]
    }
   ],
   "source": [
    "## Decision tree max depth\n",
    "tree = DecisionTreeClassifier()\n",
    "params = {'max_depth': [3,4,5,6,7,8,9,10]}\n",
    "grid_tree = GridSearchCV(tree, params, cv = 2)\n",
    "grid_tree.fit(X_train, y_train)\n",
    "tree_max_depth = grid_tree.best_params_['max_depth']\n",
    "print(\"tree complete\")"
   ]
  },
  {
   "cell_type": "code",
   "execution_count": 27,
   "metadata": {},
   "outputs": [
    {
     "output_type": "stream",
     "name": "stdout",
     "text": [
      "rnd complete\n"
     ]
    }
   ],
   "source": [
    "## Random forest max depth\n",
    "rnd = RandomForestClassifier()\n",
    "params = {'max_depth': [3,4,5,6,7,8,9,10]}\n",
    "grid_rnd = GridSearchCV(rnd, params, cv = 2)\n",
    "grid_rnd.fit(X_train, y_train)\n",
    "rnd_max_depth = grid_rnd.best_params_['max_depth']\n",
    "print(\"rnd complete\")"
   ]
  },
  {
   "cell_type": "code",
   "execution_count": 29,
   "metadata": {},
   "outputs": [
    {
     "output_type": "error",
     "ename": "Error",
     "evalue": "Pip module Unable to parse debugpy output, please log an issue with https://github.com/microsoft/vscode-jupyter is required for debugging cells. You will need to install it to debug cells.",
     "traceback": [
      "Error: Pip module Unable to parse debugpy output, please log an issue with https://github.com/microsoft/vscode-jupyter is required for debugging cells. You will need to install it to debug cells.",
      "at _.parseConnectInfo (c:\\Users\\seanm\\.vscode\\extensions\\ms-toolsai.jupyter-2021.6.999662501\\out\\client\\extension.js:90:160684)",
      "at _.connectToLocal (c:\\Users\\seanm\\.vscode\\extensions\\ms-toolsai.jupyter-2021.6.999662501\\out\\client\\extension.js:90:161211)",
      "at runMicrotasks (<anonymous>)",
      "at processTicksAndRejections (internal/process/task_queues.js:93:5)",
      "at async _.connect (c:\\Users\\seanm\\.vscode\\extensions\\ms-toolsai.jupyter-2021.6.999662501\\out\\client\\extension.js:90:159088)",
      "at async _.startDebugSession (c:\\Users\\seanm\\.vscode\\extensions\\ms-toolsai.jupyter-2021.6.999662501\\out\\client\\extension.js:90:158235)",
      "at async D.submitCode (c:\\Users\\seanm\\.vscode\\extensions\\ms-toolsai.jupyter-2021.6.999662501\\out\\client\\extension.js:37:636585)",
      "at async D.handleRunByLine (c:\\Users\\seanm\\.vscode\\extensions\\ms-toolsai.jupyter-2021.6.999662501\\out\\client\\extension.js:37:624528)"
     ]
    }
   ],
   "source": [
    "## Support vector machine\n",
    "svm = SVC(probability= True)\n",
    "params = {'C':[1,2,3,4,5]} \n",
    "grid_svm = GridSearchCV(svm, params, cv = 2)\n",
    "grid_svm.fit(X_train, y_train)\n",
    "svm_C = grid_svm.best_params_['C']\n",
    "print(\"svm complete\")"
   ]
  },
  {
   "cell_type": "code",
   "execution_count": 8,
   "metadata": {},
   "outputs": [],
   "source": [
    "best_params = {'log_C':1, 'k_neighbors':5, 'tree_max_depth':12, 'rnd_max_depth':12, 'svm_C':1, 'gbc_n_estimators':14, 'gbc_max_depth':14, 'ada_n_estimators':13}"
   ]
  },
  {
   "cell_type": "code",
   "execution_count": 16,
   "metadata": {},
   "outputs": [
    {
     "output_type": "error",
     "ename": "Error",
     "evalue": "Pip module Unable to parse debugpy output, please log an issue with https://github.com/microsoft/vscode-jupyter is required for debugging cells. You will need to install it to debug cells.",
     "traceback": [
      "Error: Pip module Unable to parse debugpy output, please log an issue with https://github.com/microsoft/vscode-jupyter is required for debugging cells. You will need to install it to debug cells.",
      "at _.parseConnectInfo (c:\\Users\\seanm\\.vscode\\extensions\\ms-toolsai.jupyter-2021.6.999662501\\out\\client\\extension.js:90:160684)",
      "at _.connectToLocal (c:\\Users\\seanm\\.vscode\\extensions\\ms-toolsai.jupyter-2021.6.999662501\\out\\client\\extension.js:90:161211)",
      "at runMicrotasks (<anonymous>)",
      "at processTicksAndRejections (internal/process/task_queues.js:93:5)",
      "at async _.connect (c:\\Users\\seanm\\.vscode\\extensions\\ms-toolsai.jupyter-2021.6.999662501\\out\\client\\extension.js:90:159088)",
      "at async _.startDebugSession (c:\\Users\\seanm\\.vscode\\extensions\\ms-toolsai.jupyter-2021.6.999662501\\out\\client\\extension.js:90:158235)",
      "at async D.submitCode (c:\\Users\\seanm\\.vscode\\extensions\\ms-toolsai.jupyter-2021.6.999662501\\out\\client\\extension.js:37:636585)",
      "at async D.handleRunByLine (c:\\Users\\seanm\\.vscode\\extensions\\ms-toolsai.jupyter-2021.6.999662501\\out\\client\\extension.js:37:624528)"
     ]
    }
   ],
   "source": [
    "log_v = LogisticRegression( max_iter = 1000, C = 1)\n",
    "#knn_v = KNeighborsClassifier(n_neighbors = k_neighbors, n_jobs= -1)\n",
    "tree_v = DecisionTreeClassifier(max_depth = 13)\n",
    "rnd_v = RandomForestClassifier(max_depth= 13)\n",
    "#svm_v = SVC(probability= True, C = 1)\n",
    "gbc_v = GradientBoostingClassifier( learning_rate=0.1, n_estimators = 140,  \n",
    "                                    max_depth = 14)\n",
    "ada_v = AdaBoostClassifier(DecisionTreeClassifier(max_depth=14), \n",
    "                                        algorithm= 'SAMME.R', \n",
    "                                            learning_rate=0.1,\n",
    "                                            n_estimators= 140)\n",
    "\n",
    "voter_c = VotingClassifier(estimators= [('lr',log_v), \n",
    "    #('KNN', knn_v),\n",
    "    ('Tree',tree_v),\n",
    "    ('rf',rnd_v),\n",
    "    #('SVM',svm_v),\n",
    "    ('boosted',gbc_v),\n",
    "    ('ADA',ada_v)\n",
    "    ], voting = 'soft')\n",
    "voter_c.fit(X_train, y_train)   \n",
    "y_preds = voter_c.predict(X_test)\n",
    "    "
   ]
  },
  {
   "cell_type": "code",
   "execution_count": 37,
   "metadata": {},
   "outputs": [],
   "source": [
    "def modelfit(alg, X_trin, y_train, predictors,useTrainCV=True, cv_folds=5, early_stopping_rounds=10):\n",
    "    \n",
    "    if useTrainCV:\n",
    "        xgb_param = alg.get_xgb_params()\n",
    "        xgtrain = xgb.DMatrix(X_train[predictors].values, label=y_train.values)\n",
    "        cvresult = xgb.cv(xgb_param, xgtrain, num_boost_round=alg.get_params()['n_estimators'], nfold=cv_folds,\n",
    "            metrics='auc', early_stopping_rounds=early_stopping_rounds)\n",
    "        alg.set_params(n_estimators=cvresult.shape[0])\n",
    "    \n",
    "    #Fit the algorithm on the data\n",
    "    alg.fit(X_train[predictors], y_train,eval_metric='auc')\n",
    "        \n",
    "    #Predict training set:\n",
    "    dtrain_predictions = alg.predict(X_train)\n",
    "    dtrain_predprob = alg.predict_proba(X_train)[:,1]\n",
    "        \n",
    "    #Print model report:\n",
    "    print (\"\\nModel Report\")\n",
    "    print (\"Accuracy : %.4g\" % metrics.accuracy_score(y_train.values, dtrain_predictions))\n",
    "    print (\"AUC Score (Train): %f\" % metrics.roc_auc_score(y_train, dtrain_predprob))\n",
    "                    \n",
    "    feat_imp = pd.Series(alg.booster().get_fscore()).sort_values(ascending=False)\n",
    "    feat_imp.plot(kind='bar', title='Feature Importances')\n",
    "    plt.ylabel('Feature Importance Score')"
   ]
  },
  {
   "cell_type": "code",
   "execution_count": 36,
   "metadata": {},
   "outputs": [
    {
     "output_type": "error",
     "ename": "Error",
     "evalue": "Pip module Unable to parse debugpy output, please log an issue with https://github.com/microsoft/vscode-jupyter is required for debugging cells. You will need to install it to debug cells.",
     "traceback": [
      "Error: Pip module Unable to parse debugpy output, please log an issue with https://github.com/microsoft/vscode-jupyter is required for debugging cells. You will need to install it to debug cells.",
      "at _.parseConnectInfo (c:\\Users\\seanm\\.vscode\\extensions\\ms-toolsai.jupyter-2021.6.999662501\\out\\client\\extension.js:90:160684)",
      "at _.connectToLocal (c:\\Users\\seanm\\.vscode\\extensions\\ms-toolsai.jupyter-2021.6.999662501\\out\\client\\extension.js:90:161211)",
      "at async _.connect (c:\\Users\\seanm\\.vscode\\extensions\\ms-toolsai.jupyter-2021.6.999662501\\out\\client\\extension.js:90:159088)",
      "at async _.startDebugSession (c:\\Users\\seanm\\.vscode\\extensions\\ms-toolsai.jupyter-2021.6.999662501\\out\\client\\extension.js:90:158235)",
      "at async D.submitCode (c:\\Users\\seanm\\.vscode\\extensions\\ms-toolsai.jupyter-2021.6.999662501\\out\\client\\extension.js:37:636585)",
      "at async D.handleRunByLine (c:\\Users\\seanm\\.vscode\\extensions\\ms-toolsai.jupyter-2021.6.999662501\\out\\client\\extension.js:37:624528)"
     ]
    }
   ],
   "source": [
    "#bst = xgb.XGBClassifier(eta = .01, max_depth = 5, colsample_bytree = 1, objective = \"binary:logistic\", eval_metric = \"auc\", min_child_weight = 1, gamma = 0,subsample = .8, colsample_bytree = 0.8)\n",
    "\n",
    "predictors = [x for x in X_train.columns]\n",
    "\n",
    "xgb1 = XGBClassifier(\n",
    " learning_rate =0.1,\n",
    " n_estimators=1000,\n",
    " max_depth=5,\n",
    " min_child_weight=1,\n",
    " gamma=0,\n",
    " subsample=0.8,\n",
    " colsample_bytree=0.8,\n",
    " objective= 'binary:logistic',\n",
    " nthread=4,\n",
    " scale_pos_weight=1,\n",
    " seed=27)\n",
    "\n",
    "modelfit(xgb1, X_train, y_train, predictors)\n",
    "#bst.fit(X_train, y_train)"
   ]
  },
  {
   "cell_type": "code",
   "execution_count": 41,
   "metadata": {},
   "outputs": [
    {
     "output_type": "stream",
     "name": "stderr",
     "text": [
      "C:\\Users\\seanm\\anaconda3\\lib\\site-packages\\xgboost\\sklearn.py:1146: UserWarning: The use of label encoder in XGBClassifier is deprecated and will be removed in a future release. To remove this warning, do the following: 1) Pass option use_label_encoder=False when constructing XGBClassifier object; and 2) Encode your labels (y) as integers starting with 0, i.e. 0, 1, 2, ..., [num_class - 1].\n",
      "  warnings.warn(label_encoder_deprecation_msg, UserWarning)\n",
      "[12:07:59] WARNING: C:/Users/Administrator/workspace/xgboost-win64_release_1.4.0/src/learner.cc:1095: Starting in XGBoost 1.3.0, the default evaluation metric used with the objective 'binary:logistic' was changed from 'error' to 'logloss'. Explicitly set eval_metric if you'd like to restore the old behavior.\n"
     ]
    },
    {
     "output_type": "error",
     "ename": "AttributeError",
     "evalue": "'GridSearchCV' object has no attribute 'grid_scores_'",
     "traceback": [
      "\u001b[1;31m---------------------------------------------------------------------------\u001b[0m",
      "\u001b[1;31mAttributeError\u001b[0m                            Traceback (most recent call last)",
      "\u001b[1;32m<ipython-input-41-c883d2be962f>\u001b[0m in \u001b[0;36m<module>\u001b[1;34m\u001b[0m\n\u001b[0;32m      8\u001b[0m  param_grid = param_test1, scoring='roc_auc',n_jobs=4, cv=5)\n\u001b[0;32m      9\u001b[0m \u001b[0mgsearch1\u001b[0m\u001b[1;33m.\u001b[0m\u001b[0mfit\u001b[0m\u001b[1;33m(\u001b[0m\u001b[0mX_train\u001b[0m\u001b[1;33m,\u001b[0m\u001b[0my_train\u001b[0m\u001b[1;33m)\u001b[0m\u001b[1;33m\u001b[0m\u001b[1;33m\u001b[0m\u001b[0m\n\u001b[1;32m---> 10\u001b[1;33m \u001b[0mgsearch1\u001b[0m\u001b[1;33m.\u001b[0m\u001b[0mgrid_scores_\u001b[0m\u001b[1;33m,\u001b[0m \u001b[0mgsearch1\u001b[0m\u001b[1;33m.\u001b[0m\u001b[0mbest_params_\u001b[0m\u001b[1;33m,\u001b[0m \u001b[0mgsearch1\u001b[0m\u001b[1;33m.\u001b[0m\u001b[0mbest_score_\u001b[0m\u001b[1;33m\u001b[0m\u001b[1;33m\u001b[0m\u001b[0m\n\u001b[0m",
      "\u001b[1;31mAttributeError\u001b[0m: 'GridSearchCV' object has no attribute 'grid_scores_'"
     ]
    }
   ],
   "source": [
    "param_test1 = {\n",
    " 'max_depth':range(5,10,1),\n",
    " 'min_child_weight':range(1,6,1)\n",
    "}\n",
    "gsearch1 = GridSearchCV(estimator = XGBClassifier( learning_rate =0.1, n_estimators=140, max_depth=5,\n",
    " min_child_weight=1, gamma=0, subsample=0.8, colsample_bytree=0.8,\n",
    " objective= 'binary:logistic', nthread=4, scale_pos_weight=1, seed=27), \n",
    " param_grid = param_test1, scoring='roc_auc',n_jobs=4, cv=5)\n",
    "gsearch1.fit(X_train,y_train)\n",
    "gsearch1.best_params_, gsearch1.best_score_"
   ]
  },
  {
   "cell_type": "code",
   "execution_count": 43,
   "metadata": {},
   "outputs": [
    {
     "output_type": "execute_result",
     "data": {
      "text/plain": [
       "({'max_depth': 6, 'min_child_weight': 4}, 0.7865956847083159)"
      ]
     },
     "metadata": {},
     "execution_count": 43
    }
   ],
   "source": [
    "gsearch1.best_params_, gsearch1.best_score_\n",
    "\n",
    "### max_depth = 6, min_child_weight = 4"
   ]
  },
  {
   "cell_type": "code",
   "execution_count": 44,
   "metadata": {},
   "outputs": [
    {
     "output_type": "stream",
     "name": "stderr",
     "text": [
      "C:\\Users\\seanm\\anaconda3\\lib\\site-packages\\xgboost\\sklearn.py:1146: UserWarning: The use of label encoder in XGBClassifier is deprecated and will be removed in a future release. To remove this warning, do the following: 1) Pass option use_label_encoder=False when constructing XGBClassifier object; and 2) Encode your labels (y) as integers starting with 0, i.e. 0, 1, 2, ..., [num_class - 1].\n",
      "  warnings.warn(label_encoder_deprecation_msg, UserWarning)\n",
      "[13:43:01] WARNING: C:/Users/Administrator/workspace/xgboost-win64_release_1.4.0/src/learner.cc:1095: Starting in XGBoost 1.3.0, the default evaluation metric used with the objective 'binary:logistic' was changed from 'error' to 'logloss'. Explicitly set eval_metric if you'd like to restore the old behavior.\n"
     ]
    },
    {
     "output_type": "execute_result",
     "data": {
      "text/plain": [
       "({'gamma': 0.0}, 0.7865956847083159)"
      ]
     },
     "metadata": {},
     "execution_count": 44
    }
   ],
   "source": [
    "param_test2 = {\n",
    " 'gamma':[i/10.0 for i in range(0,5)]\n",
    "}\n",
    "gsearch2 = GridSearchCV(estimator = XGBClassifier( learning_rate =0.1, n_estimators=140, max_depth=6,\n",
    " min_child_weight=4, gamma=0, subsample=0.8, colsample_bytree=0.8,\n",
    " objective= 'binary:logistic', nthread=4, scale_pos_weight=1, seed=27), \n",
    " param_grid = param_test3, scoring='roc_auc',n_jobs=4, cv=5)\n",
    "gsearch2.fit(X_train,y_train)\n",
    "gsearch2.best_params_, gsearch4.best_score_\n",
    "## gamma = 0"
   ]
  },
  {
   "cell_type": "code",
   "execution_count": 45,
   "metadata": {},
   "outputs": [
    {
     "output_type": "stream",
     "name": "stderr",
     "text": [
      "C:\\Users\\seanm\\anaconda3\\lib\\site-packages\\xgboost\\sklearn.py:1146: UserWarning: The use of label encoder in XGBClassifier is deprecated and will be removed in a future release. To remove this warning, do the following: 1) Pass option use_label_encoder=False when constructing XGBClassifier object; and 2) Encode your labels (y) as integers starting with 0, i.e. 0, 1, 2, ..., [num_class - 1].\n",
      "  warnings.warn(label_encoder_deprecation_msg, UserWarning)\n",
      "[14:10:17] WARNING: C:/Users/Administrator/workspace/xgboost-win64_release_1.4.0/src/learner.cc:1095: Starting in XGBoost 1.3.0, the default evaluation metric used with the objective 'binary:logistic' was changed from 'error' to 'logloss'. Explicitly set eval_metric if you'd like to restore the old behavior.\n"
     ]
    },
    {
     "output_type": "execute_result",
     "data": {
      "text/plain": [
       "({'colsample_bytree': 0.8, 'subsample': 0.9}, 0.7866521558964438)"
      ]
     },
     "metadata": {},
     "execution_count": 45
    }
   ],
   "source": [
    "param_test3 = {\n",
    " 'subsample':[i/10.0 for i in range(6,10)],\n",
    " 'colsample_bytree':[i/10.0 for i in range(6,10)]\n",
    "}\n",
    "\n",
    "gsearch3 = GridSearchCV(estimator = XGBClassifier( learning_rate =0.1, n_estimators=140, max_depth=6,\n",
    " min_child_weight=4, gamma=0, subsample=0.8, colsample_bytree=0.8,\n",
    " objective= 'binary:logistic', nthread=4, scale_pos_weight=1, seed=27), \n",
    " param_grid = param_test3, scoring='roc_auc',n_jobs=4, cv=5)\n",
    "gsearch3.fit(X_train,y_train)\n",
    "gsearch3.best_params_, gsearch3.best_score_\n",
    "## colsample_bytree = 0.8, subsample = 0.9"
   ]
  },
  {
   "cell_type": "code",
   "execution_count": 46,
   "metadata": {},
   "outputs": [
    {
     "output_type": "stream",
     "name": "stderr",
     "text": [
      "C:\\Users\\seanm\\anaconda3\\lib\\site-packages\\xgboost\\sklearn.py:1146: UserWarning: The use of label encoder in XGBClassifier is deprecated and will be removed in a future release. To remove this warning, do the following: 1) Pass option use_label_encoder=False when constructing XGBClassifier object; and 2) Encode your labels (y) as integers starting with 0, i.e. 0, 1, 2, ..., [num_class - 1].\n",
      "  warnings.warn(label_encoder_deprecation_msg, UserWarning)\n",
      "[14:29:36] WARNING: C:/Users/Administrator/workspace/xgboost-win64_release_1.4.0/src/learner.cc:1095: Starting in XGBoost 1.3.0, the default evaluation metric used with the objective 'binary:logistic' was changed from 'error' to 'logloss'. Explicitly set eval_metric if you'd like to restore the old behavior.\n"
     ]
    },
    {
     "output_type": "execute_result",
     "data": {
      "text/plain": [
       "({'reg_alpha': 0.1}, 0.7867745225812092)"
      ]
     },
     "metadata": {},
     "execution_count": 46
    }
   ],
   "source": [
    "param_test4 = {\n",
    " 'reg_alpha':[1e-5, 1e-2, 0.1, 1, 100]\n",
    "}\n",
    "gsearch4 = GridSearchCV(estimator = XGBClassifier( learning_rate =0.1, n_estimators=140, max_depth=6,\n",
    " min_child_weight=4, gamma=0, subsample=0.9, colsample_bytree=0.8,\n",
    " objective= 'binary:logistic', nthread=4, scale_pos_weight=1, seed=27), \n",
    " param_grid = param_test4, scoring='roc_auc',n_jobs=4, cv=5)\n",
    "gsearch4.fit(X_train,y_train)\n",
    "gsearch4.best_params_, gsearch4.best_score_"
   ]
  },
  {
   "cell_type": "code",
   "execution_count": 48,
   "metadata": {},
   "outputs": [
    {
     "output_type": "stream",
     "name": "stderr",
     "text": [
      "C:\\Users\\seanm\\anaconda3\\lib\\site-packages\\xgboost\\sklearn.py:1146: UserWarning: The use of label encoder in XGBClassifier is deprecated and will be removed in a future release. To remove this warning, do the following: 1) Pass option use_label_encoder=False when constructing XGBClassifier object; and 2) Encode your labels (y) as integers starting with 0, i.e. 0, 1, 2, ..., [num_class - 1].\n",
      "  warnings.warn(label_encoder_deprecation_msg, UserWarning)\n",
      "[14:42:29] WARNING: C:/Users/Administrator/workspace/xgboost-win64_release_1.4.0/src/learner.cc:1095: Starting in XGBoost 1.3.0, the default evaluation metric used with the objective 'binary:logistic' was changed from 'error' to 'logloss'. Explicitly set eval_metric if you'd like to restore the old behavior.\n"
     ]
    },
    {
     "output_type": "execute_result",
     "data": {
      "text/plain": [
       "({'reg_alpha': 0}, 0.7866521558964438)"
      ]
     },
     "metadata": {},
     "execution_count": 48
    }
   ],
   "source": [
    "param_test7 = {\n",
    " 'reg_alpha':[0, 0.001, 0.005, 0.01, 0.05]\n",
    "}\n",
    "gsearch4 = GridSearchCV(estimator = XGBClassifier( learning_rate =0.1, n_estimators=140, max_depth=6,\n",
    " min_child_weight=4, gamma=0, subsample=0.9, colsample_bytree=0.8,\n",
    " objective= 'binary:logistic', nthread=4, scale_pos_weight=1, seed=27), \n",
    " param_grid = param_test7, scoring='roc_auc',n_jobs=4, cv=5)\n",
    "gsearch4.fit(X_train,y_train)\n",
    "gsearch4.best_params_, gsearch4.best_score_"
   ]
  },
  {
   "cell_type": "code",
   "execution_count": 49,
   "metadata": {},
   "outputs": [
    {
     "output_type": "stream",
     "name": "stderr",
     "text": [
      "C:\\Users\\seanm\\anaconda3\\lib\\site-packages\\xgboost\\sklearn.py:1146: UserWarning: The use of label encoder in XGBClassifier is deprecated and will be removed in a future release. To remove this warning, do the following: 1) Pass option use_label_encoder=False when constructing XGBClassifier object; and 2) Encode your labels (y) as integers starting with 0, i.e. 0, 1, 2, ..., [num_class - 1].\n",
      "  warnings.warn(label_encoder_deprecation_msg, UserWarning)\n",
      "[15:26:42] WARNING: C:/Users/Administrator/workspace/xgboost-win64_release_1.4.0/src/learner.cc:1095: Starting in XGBoost 1.3.0, the default evaluation metric used with the objective 'binary:logistic' was changed from 'error' to 'logloss'. Explicitly set eval_metric if you'd like to restore the old behavior.\n"
     ]
    },
    {
     "output_type": "execute_result",
     "data": {
      "text/plain": [
       "({'n_estimators': 2000}, 0.7876706049349357)"
      ]
     },
     "metadata": {},
     "execution_count": 49
    }
   ],
   "source": [
    "param_test5 = {\n",
    " 'n_estimators':[150, 500, 1000, 2000],\n",
    "}\n",
    "gsearch5 = GridSearchCV(estimator = XGBClassifier( learning_rate =0.01, n_estimators=140, max_depth=6,\n",
    " min_child_weight=4, gamma=0, subsample=0.9, colsample_bytree=0.8,\n",
    " objective= 'binary:logistic', nthread=4, scale_pos_weight=1, seed=27, reg_alpha = .1), \n",
    " param_grid = param_test5, scoring='roc_auc',n_jobs=4, cv=5)\n",
    "gsearch5.fit(X_train,y_train)\n",
    "gsearch5.best_params_, gsearch5.best_score_"
   ]
  },
  {
   "cell_type": "code",
   "execution_count": 11,
   "metadata": {},
   "outputs": [
    {
     "output_type": "stream",
     "name": "stderr",
     "text": [
      "C:\\Users\\seanm\\anaconda3\\lib\\site-packages\\xgboost\\sklearn.py:1146: UserWarning: The use of label encoder in XGBClassifier is deprecated and will be removed in a future release. To remove this warning, do the following: 1) Pass option use_label_encoder=False when constructing XGBClassifier object; and 2) Encode your labels (y) as integers starting with 0, i.e. 0, 1, 2, ..., [num_class - 1].\n",
      "  warnings.warn(label_encoder_deprecation_msg, UserWarning)\n",
      "[09:04:02] WARNING: C:/Users/Administrator/workspace/xgboost-win64_release_1.4.0/src/learner.cc:1095: Starting in XGBoost 1.3.0, the default evaluation metric used with the objective 'binary:logistic' was changed from 'error' to 'logloss'. Explicitly set eval_metric if you'd like to restore the old behavior.\n"
     ]
    }
   ],
   "source": [
    "xgb = XGBClassifier( learning_rate =0.01, n_estimators= 2000, max_depth=6,\n",
    " min_child_weight=4, gamma=0, subsample=0.9, colsample_bytree=0.8,\n",
    " objective= 'binary:logistic', nthread=4, scale_pos_weight=1, seed=27, reg_alpha = .1)\n",
    "xgb.fit(X_train,y_train)\n",
    "y_preds = xgb.predict(X_test)"
   ]
  },
  {
   "cell_type": "code",
   "execution_count": 53,
   "metadata": {},
   "outputs": [
    {
     "output_type": "stream",
     "name": "stdout",
     "text": [
      "Non-voter accuracy = 0.57. Voter accuracy = 0.83. Total = 0.7. AUC = 0.7\n"
     ]
    }
   ],
   "source": [
    "METRICS(y_test, y_preds)"
   ]
  },
  {
   "cell_type": "code",
   "execution_count": 38,
   "metadata": {},
   "outputs": [],
   "source": [
    "def modelfit(alg, X_train, y_train, X_test, y_test, performCV=True, printFeatureImportance=True, cv_folds=5):\n",
    "    \n",
    "    #alg.fit(X_train,y_train)\n",
    "\n",
    "    y_preds = alg.predict(X_test)\n",
    "    dtrain_predprob = alg.predict_proba(X_test)[:,1]\n",
    "    \n",
    "    #Print model report:\n",
    "    print (\"\\nModel Report\")\n",
    "    print (\"Accuracy : %.4g\" % accuracy_score(y_test, y_preds))\n",
    "    print (\"AUC Score (Test): %f\" % roc_auc_score(y_test, dtrain_predprob))\n",
    "\n",
    "    #Perform cross-validation:\n",
    "    if performCV:\n",
    "        cv_score = cross_val_score(alg, X_train, y_train, cv=cv_folds, scoring='roc_auc')\n",
    "        print (\"CV Score : Mean - %.7g | Std - %.7g | Min - %.7g | Max - %.7g\" % (np.mean(cv_score),np.std(cv_score),np.min(cv_score),np.max(cv_score)))   \n",
    "     #Print Feature Importance:\n",
    "    if printFeatureImportance:\n",
    "        feat_imp = pd.Series(alg.feature_importances_, X_train.columns).sort_values(ascending=False)\n",
    "        feat_imp.plot(kind='bar', title='Feature Importances')\n",
    "        plt.ylabel('Feature Importance Score')"
   ]
  },
  {
   "cell_type": "code",
   "execution_count": 39,
   "metadata": {},
   "outputs": [
    {
     "output_type": "stream",
     "name": "stdout",
     "text": [
      "\n",
      "Model Report\n",
      "Accuracy : 0.722\n",
      "AUC Score (Test): 0.788488\n",
      "vv_party_prm     0.676849\n",
      "citizen          0.112564\n",
      "pid3_leaner      0.031219\n",
      "age              0.029408\n",
      "year             0.019429\n",
      "educ             0.019387\n",
      "race             0.017155\n",
      "ideo5            0.015083\n",
      "approval_pres    0.010856\n",
      "approval_sen2    0.009577\n",
      "economy_retro    0.008699\n",
      "approval_sen1    0.008646\n",
      "approval_rep     0.008167\n",
      "marstat          0.007178\n",
      "approval_gov     0.006638\n",
      "religion         0.006531\n",
      "employ           0.006382\n",
      "gender           0.006232\n",
      "dtype: float32\n"
     ]
    },
    {
     "output_type": "display_data",
     "data": {
      "text/plain": "<Figure size 864x288 with 1 Axes>",
      "image/svg+xml": "<?xml version=\"1.0\" encoding=\"utf-8\" standalone=\"no\"?>\r\n<!DOCTYPE svg PUBLIC \"-//W3C//DTD SVG 1.1//EN\"\r\n  \"http://www.w3.org/Graphics/SVG/1.1/DTD/svg11.dtd\">\r\n<svg height=\"328.808125pt\" version=\"1.1\" viewBox=\"0 0 720.58125 328.808125\" width=\"720.58125pt\" xmlns=\"http://www.w3.org/2000/svg\" xmlns:xlink=\"http://www.w3.org/1999/xlink\">\r\n <metadata>\r\n  <rdf:RDF xmlns:cc=\"http://creativecommons.org/ns#\" xmlns:dc=\"http://purl.org/dc/elements/1.1/\" xmlns:rdf=\"http://www.w3.org/1999/02/22-rdf-syntax-ns#\">\r\n   <cc:Work>\r\n    <dc:type rdf:resource=\"http://purl.org/dc/dcmitype/StillImage\"/>\r\n    <dc:date>2021-07-02T10:40:12.611852</dc:date>\r\n    <dc:format>image/svg+xml</dc:format>\r\n    <dc:creator>\r\n     <cc:Agent>\r\n      <dc:title>Matplotlib v3.4.2, https://matplotlib.org/</dc:title>\r\n     </cc:Agent>\r\n    </dc:creator>\r\n   </cc:Work>\r\n  </rdf:RDF>\r\n </metadata>\r\n <defs>\r\n  <style type=\"text/css\">*{stroke-linecap:butt;stroke-linejoin:round;}</style>\r\n </defs>\r\n <g id=\"figure_1\">\r\n  <g id=\"patch_1\">\r\n   <path d=\"M 0 328.808125 \r\nL 720.58125 328.808125 \r\nL 720.58125 0 \r\nL 0 0 \r\nz\r\n\" style=\"fill:none;\"/>\r\n  </g>\r\n  <g id=\"axes_1\">\r\n   <g id=\"patch_2\">\r\n    <path d=\"M 43.78125 239.758125 \r\nL 713.38125 239.758125 \r\nL 713.38125 22.318125 \r\nL 43.78125 22.318125 \r\nz\r\n\" style=\"fill:#ffffff;\"/>\r\n   </g>\r\n   <g id=\"patch_3\">\r\n    <path clip-path=\"url(#p260ad4d5f9)\" d=\"M 53.08125 239.758125 \r\nL 71.68125 239.758125 \r\nL 71.68125 32.672411 \r\nL 53.08125 32.672411 \r\nz\r\n\" style=\"fill:#1f77b4;\"/>\r\n   </g>\r\n   <g id=\"patch_4\">\r\n    <path clip-path=\"url(#p260ad4d5f9)\" d=\"M 90.28125 239.758125 \r\nL 108.88125 239.758125 \r\nL 108.88125 205.318509 \r\nL 90.28125 205.318509 \r\nz\r\n\" style=\"fill:#1f77b4;\"/>\r\n   </g>\r\n   <g id=\"patch_5\">\r\n    <path clip-path=\"url(#p260ad4d5f9)\" d=\"M 127.48125 239.758125 \r\nL 146.08125 239.758125 \r\nL 146.08125 230.206492 \r\nL 127.48125 230.206492 \r\nz\r\n\" style=\"fill:#1f77b4;\"/>\r\n   </g>\r\n   <g id=\"patch_6\">\r\n    <path clip-path=\"url(#p260ad4d5f9)\" d=\"M 164.68125 239.758125 \r\nL 183.28125 239.758125 \r\nL 183.28125 230.760444 \r\nL 164.68125 230.760444 \r\nz\r\n\" style=\"fill:#1f77b4;\"/>\r\n   </g>\r\n   <g id=\"patch_7\">\r\n    <path clip-path=\"url(#p260ad4d5f9)\" d=\"M 201.88125 239.758125 \r\nL 220.48125 239.758125 \r\nL 220.48125 233.813713 \r\nL 201.88125 233.813713 \r\nz\r\n\" style=\"fill:#1f77b4;\"/>\r\n   </g>\r\n   <g id=\"patch_8\">\r\n    <path clip-path=\"url(#p260ad4d5f9)\" d=\"M 239.08125 239.758125 \r\nL 257.68125 239.758125 \r\nL 257.68125 233.826469 \r\nL 239.08125 233.826469 \r\nz\r\n\" style=\"fill:#1f77b4;\"/>\r\n   </g>\r\n   <g id=\"patch_9\">\r\n    <path clip-path=\"url(#p260ad4d5f9)\" d=\"M 276.28125 239.758125 \r\nL 294.88125 239.758125 \r\nL 294.88125 234.509358 \r\nL 276.28125 234.509358 \r\nz\r\n\" style=\"fill:#1f77b4;\"/>\r\n   </g>\r\n   <g id=\"patch_10\">\r\n    <path clip-path=\"url(#p260ad4d5f9)\" d=\"M 313.48125 239.758125 \r\nL 332.08125 239.758125 \r\nL 332.08125 235.143459 \r\nL 313.48125 235.143459 \r\nz\r\n\" style=\"fill:#1f77b4;\"/>\r\n   </g>\r\n   <g id=\"patch_11\">\r\n    <path clip-path=\"url(#p260ad4d5f9)\" d=\"M 350.68125 239.758125 \r\nL 369.28125 239.758125 \r\nL 369.28125 236.436798 \r\nL 350.68125 236.436798 \r\nz\r\n\" style=\"fill:#1f77b4;\"/>\r\n   </g>\r\n   <g id=\"patch_12\">\r\n    <path clip-path=\"url(#p260ad4d5f9)\" d=\"M 387.88125 239.758125 \r\nL 406.48125 239.758125 \r\nL 406.48125 236.827861 \r\nL 387.88125 236.827861 \r\nz\r\n\" style=\"fill:#1f77b4;\"/>\r\n   </g>\r\n   <g id=\"patch_13\">\r\n    <path clip-path=\"url(#p260ad4d5f9)\" d=\"M 425.08125 239.758125 \r\nL 443.68125 239.758125 \r\nL 443.68125 237.096619 \r\nL 425.08125 237.096619 \r\nz\r\n\" style=\"fill:#1f77b4;\"/>\r\n   </g>\r\n   <g id=\"patch_14\">\r\n    <path clip-path=\"url(#p260ad4d5f9)\" d=\"M 462.28125 239.758125 \r\nL 480.88125 239.758125 \r\nL 480.88125 237.11294 \r\nL 462.28125 237.11294 \r\nz\r\n\" style=\"fill:#1f77b4;\"/>\r\n   </g>\r\n   <g id=\"patch_15\">\r\n    <path clip-path=\"url(#p260ad4d5f9)\" d=\"M 499.48125 239.758125 \r\nL 518.08125 239.758125 \r\nL 518.08125 237.259488 \r\nL 499.48125 237.259488 \r\nz\r\n\" style=\"fill:#1f77b4;\"/>\r\n   </g>\r\n   <g id=\"patch_16\">\r\n    <path clip-path=\"url(#p260ad4d5f9)\" d=\"M 536.68125 239.758125 \r\nL 555.28125 239.758125 \r\nL 555.28125 237.56183 \r\nL 536.68125 237.56183 \r\nz\r\n\" style=\"fill:#1f77b4;\"/>\r\n   </g>\r\n   <g id=\"patch_17\">\r\n    <path clip-path=\"url(#p260ad4d5f9)\" d=\"M 573.88125 239.758125 \r\nL 592.48125 239.758125 \r\nL 592.48125 237.727307 \r\nL 573.88125 237.727307 \r\nz\r\n\" style=\"fill:#1f77b4;\"/>\r\n   </g>\r\n   <g id=\"patch_18\">\r\n    <path clip-path=\"url(#p260ad4d5f9)\" d=\"M 611.08125 239.758125 \r\nL 629.68125 239.758125 \r\nL 629.68125 237.759801 \r\nL 611.08125 237.759801 \r\nz\r\n\" style=\"fill:#1f77b4;\"/>\r\n   </g>\r\n   <g id=\"patch_19\">\r\n    <path clip-path=\"url(#p260ad4d5f9)\" d=\"M 648.28125 239.758125 \r\nL 666.88125 239.758125 \r\nL 666.88125 237.805468 \r\nL 648.28125 237.805468 \r\nz\r\n\" style=\"fill:#1f77b4;\"/>\r\n   </g>\r\n   <g id=\"patch_20\">\r\n    <path clip-path=\"url(#p260ad4d5f9)\" d=\"M 685.48125 239.758125 \r\nL 704.08125 239.758125 \r\nL 704.08125 237.851515 \r\nL 685.48125 237.851515 \r\nz\r\n\" style=\"fill:#1f77b4;\"/>\r\n   </g>\r\n   <g id=\"matplotlib.axis_1\">\r\n    <g id=\"xtick_1\">\r\n     <g id=\"line2d_1\">\r\n      <defs>\r\n       <path d=\"M 0 0 \r\nL 0 3.5 \r\n\" id=\"m0e40cfea8e\" style=\"stroke:#000000;stroke-width:0.8;\"/>\r\n      </defs>\r\n      <g>\r\n       <use style=\"stroke:#000000;stroke-width:0.8;\" x=\"62.38125\" xlink:href=\"#m0e40cfea8e\" y=\"239.758125\"/>\r\n      </g>\r\n     </g>\r\n     <g id=\"text_1\">\r\n      <!-- vv_party_prm -->\r\n      <g transform=\"translate(64.8625 315.047188)rotate(-90)scale(0.1 -0.1)\">\r\n       <defs>\r\n        <path d=\"M 191 3500 \r\nL 800 3500 \r\nL 1894 563 \r\nL 2988 3500 \r\nL 3597 3500 \r\nL 2284 0 \r\nL 1503 0 \r\nL 191 3500 \r\nz\r\n\" id=\"DejaVuSans-76\" transform=\"scale(0.015625)\"/>\r\n        <path d=\"M 3263 -1063 \r\nL 3263 -1509 \r\nL -63 -1509 \r\nL -63 -1063 \r\nL 3263 -1063 \r\nz\r\n\" id=\"DejaVuSans-5f\" transform=\"scale(0.015625)\"/>\r\n        <path d=\"M 1159 525 \r\nL 1159 -1331 \r\nL 581 -1331 \r\nL 581 3500 \r\nL 1159 3500 \r\nL 1159 2969 \r\nQ 1341 3281 1617 3432 \r\nQ 1894 3584 2278 3584 \r\nQ 2916 3584 3314 3078 \r\nQ 3713 2572 3713 1747 \r\nQ 3713 922 3314 415 \r\nQ 2916 -91 2278 -91 \r\nQ 1894 -91 1617 61 \r\nQ 1341 213 1159 525 \r\nz\r\nM 3116 1747 \r\nQ 3116 2381 2855 2742 \r\nQ 2594 3103 2138 3103 \r\nQ 1681 3103 1420 2742 \r\nQ 1159 2381 1159 1747 \r\nQ 1159 1113 1420 752 \r\nQ 1681 391 2138 391 \r\nQ 2594 391 2855 752 \r\nQ 3116 1113 3116 1747 \r\nz\r\n\" id=\"DejaVuSans-70\" transform=\"scale(0.015625)\"/>\r\n        <path d=\"M 2194 1759 \r\nQ 1497 1759 1228 1600 \r\nQ 959 1441 959 1056 \r\nQ 959 750 1161 570 \r\nQ 1363 391 1709 391 \r\nQ 2188 391 2477 730 \r\nQ 2766 1069 2766 1631 \r\nL 2766 1759 \r\nL 2194 1759 \r\nz\r\nM 3341 1997 \r\nL 3341 0 \r\nL 2766 0 \r\nL 2766 531 \r\nQ 2569 213 2275 61 \r\nQ 1981 -91 1556 -91 \r\nQ 1019 -91 701 211 \r\nQ 384 513 384 1019 \r\nQ 384 1609 779 1909 \r\nQ 1175 2209 1959 2209 \r\nL 2766 2209 \r\nL 2766 2266 \r\nQ 2766 2663 2505 2880 \r\nQ 2244 3097 1772 3097 \r\nQ 1472 3097 1187 3025 \r\nQ 903 2953 641 2809 \r\nL 641 3341 \r\nQ 956 3463 1253 3523 \r\nQ 1550 3584 1831 3584 \r\nQ 2591 3584 2966 3190 \r\nQ 3341 2797 3341 1997 \r\nz\r\n\" id=\"DejaVuSans-61\" transform=\"scale(0.015625)\"/>\r\n        <path d=\"M 2631 2963 \r\nQ 2534 3019 2420 3045 \r\nQ 2306 3072 2169 3072 \r\nQ 1681 3072 1420 2755 \r\nQ 1159 2438 1159 1844 \r\nL 1159 0 \r\nL 581 0 \r\nL 581 3500 \r\nL 1159 3500 \r\nL 1159 2956 \r\nQ 1341 3275 1631 3429 \r\nQ 1922 3584 2338 3584 \r\nQ 2397 3584 2469 3576 \r\nQ 2541 3569 2628 3553 \r\nL 2631 2963 \r\nz\r\n\" id=\"DejaVuSans-72\" transform=\"scale(0.015625)\"/>\r\n        <path d=\"M 1172 4494 \r\nL 1172 3500 \r\nL 2356 3500 \r\nL 2356 3053 \r\nL 1172 3053 \r\nL 1172 1153 \r\nQ 1172 725 1289 603 \r\nQ 1406 481 1766 481 \r\nL 2356 481 \r\nL 2356 0 \r\nL 1766 0 \r\nQ 1100 0 847 248 \r\nQ 594 497 594 1153 \r\nL 594 3053 \r\nL 172 3053 \r\nL 172 3500 \r\nL 594 3500 \r\nL 594 4494 \r\nL 1172 4494 \r\nz\r\n\" id=\"DejaVuSans-74\" transform=\"scale(0.015625)\"/>\r\n        <path d=\"M 2059 -325 \r\nQ 1816 -950 1584 -1140 \r\nQ 1353 -1331 966 -1331 \r\nL 506 -1331 \r\nL 506 -850 \r\nL 844 -850 \r\nQ 1081 -850 1212 -737 \r\nQ 1344 -625 1503 -206 \r\nL 1606 56 \r\nL 191 3500 \r\nL 800 3500 \r\nL 1894 763 \r\nL 2988 3500 \r\nL 3597 3500 \r\nL 2059 -325 \r\nz\r\n\" id=\"DejaVuSans-79\" transform=\"scale(0.015625)\"/>\r\n        <path d=\"M 3328 2828 \r\nQ 3544 3216 3844 3400 \r\nQ 4144 3584 4550 3584 \r\nQ 5097 3584 5394 3201 \r\nQ 5691 2819 5691 2113 \r\nL 5691 0 \r\nL 5113 0 \r\nL 5113 2094 \r\nQ 5113 2597 4934 2840 \r\nQ 4756 3084 4391 3084 \r\nQ 3944 3084 3684 2787 \r\nQ 3425 2491 3425 1978 \r\nL 3425 0 \r\nL 2847 0 \r\nL 2847 2094 \r\nQ 2847 2600 2669 2842 \r\nQ 2491 3084 2119 3084 \r\nQ 1678 3084 1418 2786 \r\nQ 1159 2488 1159 1978 \r\nL 1159 0 \r\nL 581 0 \r\nL 581 3500 \r\nL 1159 3500 \r\nL 1159 2956 \r\nQ 1356 3278 1631 3431 \r\nQ 1906 3584 2284 3584 \r\nQ 2666 3584 2933 3390 \r\nQ 3200 3197 3328 2828 \r\nz\r\n\" id=\"DejaVuSans-6d\" transform=\"scale(0.015625)\"/>\r\n       </defs>\r\n       <use xlink:href=\"#DejaVuSans-76\"/>\r\n       <use x=\"59.179688\" xlink:href=\"#DejaVuSans-76\"/>\r\n       <use x=\"118.359375\" xlink:href=\"#DejaVuSans-5f\"/>\r\n       <use x=\"168.359375\" xlink:href=\"#DejaVuSans-70\"/>\r\n       <use x=\"231.835938\" xlink:href=\"#DejaVuSans-61\"/>\r\n       <use x=\"293.115234\" xlink:href=\"#DejaVuSans-72\"/>\r\n       <use x=\"334.228516\" xlink:href=\"#DejaVuSans-74\"/>\r\n       <use x=\"373.4375\" xlink:href=\"#DejaVuSans-79\"/>\r\n       <use x=\"432.617188\" xlink:href=\"#DejaVuSans-5f\"/>\r\n       <use x=\"482.617188\" xlink:href=\"#DejaVuSans-70\"/>\r\n       <use x=\"546.09375\" xlink:href=\"#DejaVuSans-72\"/>\r\n       <use x=\"585.457031\" xlink:href=\"#DejaVuSans-6d\"/>\r\n      </g>\r\n     </g>\r\n    </g>\r\n    <g id=\"xtick_2\">\r\n     <g id=\"line2d_2\">\r\n      <g>\r\n       <use style=\"stroke:#000000;stroke-width:0.8;\" x=\"99.58125\" xlink:href=\"#m0e40cfea8e\" y=\"239.758125\"/>\r\n      </g>\r\n     </g>\r\n     <g id=\"text_2\">\r\n      <!-- citizen -->\r\n      <g transform=\"translate(102.340625 279.472188)rotate(-90)scale(0.1 -0.1)\">\r\n       <defs>\r\n        <path d=\"M 3122 3366 \r\nL 3122 2828 \r\nQ 2878 2963 2633 3030 \r\nQ 2388 3097 2138 3097 \r\nQ 1578 3097 1268 2742 \r\nQ 959 2388 959 1747 \r\nQ 959 1106 1268 751 \r\nQ 1578 397 2138 397 \r\nQ 2388 397 2633 464 \r\nQ 2878 531 3122 666 \r\nL 3122 134 \r\nQ 2881 22 2623 -34 \r\nQ 2366 -91 2075 -91 \r\nQ 1284 -91 818 406 \r\nQ 353 903 353 1747 \r\nQ 353 2603 823 3093 \r\nQ 1294 3584 2113 3584 \r\nQ 2378 3584 2631 3529 \r\nQ 2884 3475 3122 3366 \r\nz\r\n\" id=\"DejaVuSans-63\" transform=\"scale(0.015625)\"/>\r\n        <path d=\"M 603 3500 \r\nL 1178 3500 \r\nL 1178 0 \r\nL 603 0 \r\nL 603 3500 \r\nz\r\nM 603 4863 \r\nL 1178 4863 \r\nL 1178 4134 \r\nL 603 4134 \r\nL 603 4863 \r\nz\r\n\" id=\"DejaVuSans-69\" transform=\"scale(0.015625)\"/>\r\n        <path d=\"M 353 3500 \r\nL 3084 3500 \r\nL 3084 2975 \r\nL 922 459 \r\nL 3084 459 \r\nL 3084 0 \r\nL 275 0 \r\nL 275 525 \r\nL 2438 3041 \r\nL 353 3041 \r\nL 353 3500 \r\nz\r\n\" id=\"DejaVuSans-7a\" transform=\"scale(0.015625)\"/>\r\n        <path d=\"M 3597 1894 \r\nL 3597 1613 \r\nL 953 1613 \r\nQ 991 1019 1311 708 \r\nQ 1631 397 2203 397 \r\nQ 2534 397 2845 478 \r\nQ 3156 559 3463 722 \r\nL 3463 178 \r\nQ 3153 47 2828 -22 \r\nQ 2503 -91 2169 -91 \r\nQ 1331 -91 842 396 \r\nQ 353 884 353 1716 \r\nQ 353 2575 817 3079 \r\nQ 1281 3584 2069 3584 \r\nQ 2775 3584 3186 3129 \r\nQ 3597 2675 3597 1894 \r\nz\r\nM 3022 2063 \r\nQ 3016 2534 2758 2815 \r\nQ 2500 3097 2075 3097 \r\nQ 1594 3097 1305 2825 \r\nQ 1016 2553 972 2059 \r\nL 3022 2063 \r\nz\r\n\" id=\"DejaVuSans-65\" transform=\"scale(0.015625)\"/>\r\n        <path d=\"M 3513 2113 \r\nL 3513 0 \r\nL 2938 0 \r\nL 2938 2094 \r\nQ 2938 2591 2744 2837 \r\nQ 2550 3084 2163 3084 \r\nQ 1697 3084 1428 2787 \r\nQ 1159 2491 1159 1978 \r\nL 1159 0 \r\nL 581 0 \r\nL 581 3500 \r\nL 1159 3500 \r\nL 1159 2956 \r\nQ 1366 3272 1645 3428 \r\nQ 1925 3584 2291 3584 \r\nQ 2894 3584 3203 3211 \r\nQ 3513 2838 3513 2113 \r\nz\r\n\" id=\"DejaVuSans-6e\" transform=\"scale(0.015625)\"/>\r\n       </defs>\r\n       <use xlink:href=\"#DejaVuSans-63\"/>\r\n       <use x=\"54.980469\" xlink:href=\"#DejaVuSans-69\"/>\r\n       <use x=\"82.763672\" xlink:href=\"#DejaVuSans-74\"/>\r\n       <use x=\"121.972656\" xlink:href=\"#DejaVuSans-69\"/>\r\n       <use x=\"149.755859\" xlink:href=\"#DejaVuSans-7a\"/>\r\n       <use x=\"202.246094\" xlink:href=\"#DejaVuSans-65\"/>\r\n       <use x=\"263.769531\" xlink:href=\"#DejaVuSans-6e\"/>\r\n      </g>\r\n     </g>\r\n    </g>\r\n    <g id=\"xtick_3\">\r\n     <g id=\"line2d_3\">\r\n      <g>\r\n       <use style=\"stroke:#000000;stroke-width:0.8;\" x=\"136.78125\" xlink:href=\"#m0e40cfea8e\" y=\"239.758125\"/>\r\n      </g>\r\n     </g>\r\n     <g id=\"text_3\">\r\n      <!-- pid3_leaner -->\r\n      <g transform=\"translate(139.401563 305.256563)rotate(-90)scale(0.1 -0.1)\">\r\n       <defs>\r\n        <path d=\"M 2906 2969 \r\nL 2906 4863 \r\nL 3481 4863 \r\nL 3481 0 \r\nL 2906 0 \r\nL 2906 525 \r\nQ 2725 213 2448 61 \r\nQ 2172 -91 1784 -91 \r\nQ 1150 -91 751 415 \r\nQ 353 922 353 1747 \r\nQ 353 2572 751 3078 \r\nQ 1150 3584 1784 3584 \r\nQ 2172 3584 2448 3432 \r\nQ 2725 3281 2906 2969 \r\nz\r\nM 947 1747 \r\nQ 947 1113 1208 752 \r\nQ 1469 391 1925 391 \r\nQ 2381 391 2643 752 \r\nQ 2906 1113 2906 1747 \r\nQ 2906 2381 2643 2742 \r\nQ 2381 3103 1925 3103 \r\nQ 1469 3103 1208 2742 \r\nQ 947 2381 947 1747 \r\nz\r\n\" id=\"DejaVuSans-64\" transform=\"scale(0.015625)\"/>\r\n        <path d=\"M 2597 2516 \r\nQ 3050 2419 3304 2112 \r\nQ 3559 1806 3559 1356 \r\nQ 3559 666 3084 287 \r\nQ 2609 -91 1734 -91 \r\nQ 1441 -91 1130 -33 \r\nQ 819 25 488 141 \r\nL 488 750 \r\nQ 750 597 1062 519 \r\nQ 1375 441 1716 441 \r\nQ 2309 441 2620 675 \r\nQ 2931 909 2931 1356 \r\nQ 2931 1769 2642 2001 \r\nQ 2353 2234 1838 2234 \r\nL 1294 2234 \r\nL 1294 2753 \r\nL 1863 2753 \r\nQ 2328 2753 2575 2939 \r\nQ 2822 3125 2822 3475 \r\nQ 2822 3834 2567 4026 \r\nQ 2313 4219 1838 4219 \r\nQ 1578 4219 1281 4162 \r\nQ 984 4106 628 3988 \r\nL 628 4550 \r\nQ 988 4650 1302 4700 \r\nQ 1616 4750 1894 4750 \r\nQ 2613 4750 3031 4423 \r\nQ 3450 4097 3450 3541 \r\nQ 3450 3153 3228 2886 \r\nQ 3006 2619 2597 2516 \r\nz\r\n\" id=\"DejaVuSans-33\" transform=\"scale(0.015625)\"/>\r\n        <path d=\"M 603 4863 \r\nL 1178 4863 \r\nL 1178 0 \r\nL 603 0 \r\nL 603 4863 \r\nz\r\n\" id=\"DejaVuSans-6c\" transform=\"scale(0.015625)\"/>\r\n       </defs>\r\n       <use xlink:href=\"#DejaVuSans-70\"/>\r\n       <use x=\"63.476562\" xlink:href=\"#DejaVuSans-69\"/>\r\n       <use x=\"91.259766\" xlink:href=\"#DejaVuSans-64\"/>\r\n       <use x=\"154.736328\" xlink:href=\"#DejaVuSans-33\"/>\r\n       <use x=\"218.359375\" xlink:href=\"#DejaVuSans-5f\"/>\r\n       <use x=\"268.359375\" xlink:href=\"#DejaVuSans-6c\"/>\r\n       <use x=\"296.142578\" xlink:href=\"#DejaVuSans-65\"/>\r\n       <use x=\"357.666016\" xlink:href=\"#DejaVuSans-61\"/>\r\n       <use x=\"418.945312\" xlink:href=\"#DejaVuSans-6e\"/>\r\n       <use x=\"482.324219\" xlink:href=\"#DejaVuSans-65\"/>\r\n       <use x=\"543.847656\" xlink:href=\"#DejaVuSans-72\"/>\r\n      </g>\r\n     </g>\r\n    </g>\r\n    <g id=\"xtick_4\">\r\n     <g id=\"line2d_4\">\r\n      <g>\r\n       <use style=\"stroke:#000000;stroke-width:0.8;\" x=\"173.98125\" xlink:href=\"#m0e40cfea8e\" y=\"239.758125\"/>\r\n      </g>\r\n     </g>\r\n     <g id=\"text_4\">\r\n      <!-- age -->\r\n      <g transform=\"translate(176.740625 265.387812)rotate(-90)scale(0.1 -0.1)\">\r\n       <defs>\r\n        <path d=\"M 2906 1791 \r\nQ 2906 2416 2648 2759 \r\nQ 2391 3103 1925 3103 \r\nQ 1463 3103 1205 2759 \r\nQ 947 2416 947 1791 \r\nQ 947 1169 1205 825 \r\nQ 1463 481 1925 481 \r\nQ 2391 481 2648 825 \r\nQ 2906 1169 2906 1791 \r\nz\r\nM 3481 434 \r\nQ 3481 -459 3084 -895 \r\nQ 2688 -1331 1869 -1331 \r\nQ 1566 -1331 1297 -1286 \r\nQ 1028 -1241 775 -1147 \r\nL 775 -588 \r\nQ 1028 -725 1275 -790 \r\nQ 1522 -856 1778 -856 \r\nQ 2344 -856 2625 -561 \r\nQ 2906 -266 2906 331 \r\nL 2906 616 \r\nQ 2728 306 2450 153 \r\nQ 2172 0 1784 0 \r\nQ 1141 0 747 490 \r\nQ 353 981 353 1791 \r\nQ 353 2603 747 3093 \r\nQ 1141 3584 1784 3584 \r\nQ 2172 3584 2450 3431 \r\nQ 2728 3278 2906 2969 \r\nL 2906 3500 \r\nL 3481 3500 \r\nL 3481 434 \r\nz\r\n\" id=\"DejaVuSans-67\" transform=\"scale(0.015625)\"/>\r\n       </defs>\r\n       <use xlink:href=\"#DejaVuSans-61\"/>\r\n       <use x=\"61.279297\" xlink:href=\"#DejaVuSans-67\"/>\r\n       <use x=\"124.755859\" xlink:href=\"#DejaVuSans-65\"/>\r\n      </g>\r\n     </g>\r\n    </g>\r\n    <g id=\"xtick_5\">\r\n     <g id=\"line2d_5\">\r\n      <g>\r\n       <use style=\"stroke:#000000;stroke-width:0.8;\" x=\"211.18125\" xlink:href=\"#m0e40cfea8e\" y=\"239.758125\"/>\r\n      </g>\r\n     </g>\r\n     <g id=\"text_5\">\r\n      <!-- year -->\r\n      <g transform=\"translate(213.940625 269.069063)rotate(-90)scale(0.1 -0.1)\">\r\n       <use xlink:href=\"#DejaVuSans-79\"/>\r\n       <use x=\"59.179688\" xlink:href=\"#DejaVuSans-65\"/>\r\n       <use x=\"120.703125\" xlink:href=\"#DejaVuSans-61\"/>\r\n       <use x=\"181.982422\" xlink:href=\"#DejaVuSans-72\"/>\r\n      </g>\r\n     </g>\r\n    </g>\r\n    <g id=\"xtick_6\">\r\n     <g id=\"line2d_6\">\r\n      <g>\r\n       <use style=\"stroke:#000000;stroke-width:0.8;\" x=\"248.38125\" xlink:href=\"#m0e40cfea8e\" y=\"239.758125\"/>\r\n      </g>\r\n     </g>\r\n     <g id=\"text_6\">\r\n      <!-- educ -->\r\n      <g transform=\"translate(251.140625 271.095625)rotate(-90)scale(0.1 -0.1)\">\r\n       <defs>\r\n        <path d=\"M 544 1381 \r\nL 544 3500 \r\nL 1119 3500 \r\nL 1119 1403 \r\nQ 1119 906 1312 657 \r\nQ 1506 409 1894 409 \r\nQ 2359 409 2629 706 \r\nQ 2900 1003 2900 1516 \r\nL 2900 3500 \r\nL 3475 3500 \r\nL 3475 0 \r\nL 2900 0 \r\nL 2900 538 \r\nQ 2691 219 2414 64 \r\nQ 2138 -91 1772 -91 \r\nQ 1169 -91 856 284 \r\nQ 544 659 544 1381 \r\nz\r\nM 1991 3584 \r\nL 1991 3584 \r\nz\r\n\" id=\"DejaVuSans-75\" transform=\"scale(0.015625)\"/>\r\n       </defs>\r\n       <use xlink:href=\"#DejaVuSans-65\"/>\r\n       <use x=\"61.523438\" xlink:href=\"#DejaVuSans-64\"/>\r\n       <use x=\"125\" xlink:href=\"#DejaVuSans-75\"/>\r\n       <use x=\"188.378906\" xlink:href=\"#DejaVuSans-63\"/>\r\n      </g>\r\n     </g>\r\n    </g>\r\n    <g id=\"xtick_7\">\r\n     <g id=\"line2d_7\">\r\n      <g>\r\n       <use style=\"stroke:#000000;stroke-width:0.8;\" x=\"285.58125\" xlink:href=\"#m0e40cfea8e\" y=\"239.758125\"/>\r\n      </g>\r\n     </g>\r\n     <g id=\"text_7\">\r\n      <!-- race -->\r\n      <g transform=\"translate(288.340625 268.64875)rotate(-90)scale(0.1 -0.1)\">\r\n       <use xlink:href=\"#DejaVuSans-72\"/>\r\n       <use x=\"41.113281\" xlink:href=\"#DejaVuSans-61\"/>\r\n       <use x=\"102.392578\" xlink:href=\"#DejaVuSans-63\"/>\r\n       <use x=\"157.373047\" xlink:href=\"#DejaVuSans-65\"/>\r\n      </g>\r\n     </g>\r\n    </g>\r\n    <g id=\"xtick_8\">\r\n     <g id=\"line2d_8\">\r\n      <g>\r\n       <use style=\"stroke:#000000;stroke-width:0.8;\" x=\"322.78125\" xlink:href=\"#m0e40cfea8e\" y=\"239.758125\"/>\r\n      </g>\r\n     </g>\r\n     <g id=\"text_8\">\r\n      <!-- ideo5 -->\r\n      <g transform=\"translate(325.540625 274.519063)rotate(-90)scale(0.1 -0.1)\">\r\n       <defs>\r\n        <path d=\"M 1959 3097 \r\nQ 1497 3097 1228 2736 \r\nQ 959 2375 959 1747 \r\nQ 959 1119 1226 758 \r\nQ 1494 397 1959 397 \r\nQ 2419 397 2687 759 \r\nQ 2956 1122 2956 1747 \r\nQ 2956 2369 2687 2733 \r\nQ 2419 3097 1959 3097 \r\nz\r\nM 1959 3584 \r\nQ 2709 3584 3137 3096 \r\nQ 3566 2609 3566 1747 \r\nQ 3566 888 3137 398 \r\nQ 2709 -91 1959 -91 \r\nQ 1206 -91 779 398 \r\nQ 353 888 353 1747 \r\nQ 353 2609 779 3096 \r\nQ 1206 3584 1959 3584 \r\nz\r\n\" id=\"DejaVuSans-6f\" transform=\"scale(0.015625)\"/>\r\n        <path d=\"M 691 4666 \r\nL 3169 4666 \r\nL 3169 4134 \r\nL 1269 4134 \r\nL 1269 2991 \r\nQ 1406 3038 1543 3061 \r\nQ 1681 3084 1819 3084 \r\nQ 2600 3084 3056 2656 \r\nQ 3513 2228 3513 1497 \r\nQ 3513 744 3044 326 \r\nQ 2575 -91 1722 -91 \r\nQ 1428 -91 1123 -41 \r\nQ 819 9 494 109 \r\nL 494 744 \r\nQ 775 591 1075 516 \r\nQ 1375 441 1709 441 \r\nQ 2250 441 2565 725 \r\nQ 2881 1009 2881 1497 \r\nQ 2881 1984 2565 2268 \r\nQ 2250 2553 1709 2553 \r\nQ 1456 2553 1204 2497 \r\nQ 953 2441 691 2322 \r\nL 691 4666 \r\nz\r\n\" id=\"DejaVuSans-35\" transform=\"scale(0.015625)\"/>\r\n       </defs>\r\n       <use xlink:href=\"#DejaVuSans-69\"/>\r\n       <use x=\"27.783203\" xlink:href=\"#DejaVuSans-64\"/>\r\n       <use x=\"91.259766\" xlink:href=\"#DejaVuSans-65\"/>\r\n       <use x=\"152.783203\" xlink:href=\"#DejaVuSans-6f\"/>\r\n       <use x=\"213.964844\" xlink:href=\"#DejaVuSans-35\"/>\r\n      </g>\r\n     </g>\r\n    </g>\r\n    <g id=\"xtick_9\">\r\n     <g id=\"line2d_9\">\r\n      <g>\r\n       <use style=\"stroke:#000000;stroke-width:0.8;\" x=\"359.98125\" xlink:href=\"#m0e40cfea8e\" y=\"239.758125\"/>\r\n      </g>\r\n     </g>\r\n     <g id=\"text_9\">\r\n      <!-- approval_pres -->\r\n      <g transform=\"translate(362.601562 317.009688)rotate(-90)scale(0.1 -0.1)\">\r\n       <defs>\r\n        <path d=\"M 2834 3397 \r\nL 2834 2853 \r\nQ 2591 2978 2328 3040 \r\nQ 2066 3103 1784 3103 \r\nQ 1356 3103 1142 2972 \r\nQ 928 2841 928 2578 \r\nQ 928 2378 1081 2264 \r\nQ 1234 2150 1697 2047 \r\nL 1894 2003 \r\nQ 2506 1872 2764 1633 \r\nQ 3022 1394 3022 966 \r\nQ 3022 478 2636 193 \r\nQ 2250 -91 1575 -91 \r\nQ 1294 -91 989 -36 \r\nQ 684 19 347 128 \r\nL 347 722 \r\nQ 666 556 975 473 \r\nQ 1284 391 1588 391 \r\nQ 1994 391 2212 530 \r\nQ 2431 669 2431 922 \r\nQ 2431 1156 2273 1281 \r\nQ 2116 1406 1581 1522 \r\nL 1381 1569 \r\nQ 847 1681 609 1914 \r\nQ 372 2147 372 2553 \r\nQ 372 3047 722 3315 \r\nQ 1072 3584 1716 3584 \r\nQ 2034 3584 2315 3537 \r\nQ 2597 3491 2834 3397 \r\nz\r\n\" id=\"DejaVuSans-73\" transform=\"scale(0.015625)\"/>\r\n       </defs>\r\n       <use xlink:href=\"#DejaVuSans-61\"/>\r\n       <use x=\"61.279297\" xlink:href=\"#DejaVuSans-70\"/>\r\n       <use x=\"124.755859\" xlink:href=\"#DejaVuSans-70\"/>\r\n       <use x=\"188.232422\" xlink:href=\"#DejaVuSans-72\"/>\r\n       <use x=\"227.095703\" xlink:href=\"#DejaVuSans-6f\"/>\r\n       <use x=\"288.277344\" xlink:href=\"#DejaVuSans-76\"/>\r\n       <use x=\"347.457031\" xlink:href=\"#DejaVuSans-61\"/>\r\n       <use x=\"408.736328\" xlink:href=\"#DejaVuSans-6c\"/>\r\n       <use x=\"436.519531\" xlink:href=\"#DejaVuSans-5f\"/>\r\n       <use x=\"486.519531\" xlink:href=\"#DejaVuSans-70\"/>\r\n       <use x=\"549.996094\" xlink:href=\"#DejaVuSans-72\"/>\r\n       <use x=\"588.859375\" xlink:href=\"#DejaVuSans-65\"/>\r\n       <use x=\"650.382812\" xlink:href=\"#DejaVuSans-73\"/>\r\n      </g>\r\n     </g>\r\n    </g>\r\n    <g id=\"xtick_10\">\r\n     <g id=\"line2d_10\">\r\n      <g>\r\n       <use style=\"stroke:#000000;stroke-width:0.8;\" x=\"397.18125\" xlink:href=\"#m0e40cfea8e\" y=\"239.758125\"/>\r\n      </g>\r\n     </g>\r\n     <g id=\"text_10\">\r\n      <!-- approval_sen2 -->\r\n      <g transform=\"translate(399.801562 319.475313)rotate(-90)scale(0.1 -0.1)\">\r\n       <defs>\r\n        <path d=\"M 1228 531 \r\nL 3431 531 \r\nL 3431 0 \r\nL 469 0 \r\nL 469 531 \r\nQ 828 903 1448 1529 \r\nQ 2069 2156 2228 2338 \r\nQ 2531 2678 2651 2914 \r\nQ 2772 3150 2772 3378 \r\nQ 2772 3750 2511 3984 \r\nQ 2250 4219 1831 4219 \r\nQ 1534 4219 1204 4116 \r\nQ 875 4013 500 3803 \r\nL 500 4441 \r\nQ 881 4594 1212 4672 \r\nQ 1544 4750 1819 4750 \r\nQ 2544 4750 2975 4387 \r\nQ 3406 4025 3406 3419 \r\nQ 3406 3131 3298 2873 \r\nQ 3191 2616 2906 2266 \r\nQ 2828 2175 2409 1742 \r\nQ 1991 1309 1228 531 \r\nz\r\n\" id=\"DejaVuSans-32\" transform=\"scale(0.015625)\"/>\r\n       </defs>\r\n       <use xlink:href=\"#DejaVuSans-61\"/>\r\n       <use x=\"61.279297\" xlink:href=\"#DejaVuSans-70\"/>\r\n       <use x=\"124.755859\" xlink:href=\"#DejaVuSans-70\"/>\r\n       <use x=\"188.232422\" xlink:href=\"#DejaVuSans-72\"/>\r\n       <use x=\"227.095703\" xlink:href=\"#DejaVuSans-6f\"/>\r\n       <use x=\"288.277344\" xlink:href=\"#DejaVuSans-76\"/>\r\n       <use x=\"347.457031\" xlink:href=\"#DejaVuSans-61\"/>\r\n       <use x=\"408.736328\" xlink:href=\"#DejaVuSans-6c\"/>\r\n       <use x=\"436.519531\" xlink:href=\"#DejaVuSans-5f\"/>\r\n       <use x=\"486.519531\" xlink:href=\"#DejaVuSans-73\"/>\r\n       <use x=\"538.619141\" xlink:href=\"#DejaVuSans-65\"/>\r\n       <use x=\"600.142578\" xlink:href=\"#DejaVuSans-6e\"/>\r\n       <use x=\"663.521484\" xlink:href=\"#DejaVuSans-32\"/>\r\n      </g>\r\n     </g>\r\n    </g>\r\n    <g id=\"xtick_11\">\r\n     <g id=\"line2d_11\">\r\n      <g>\r\n       <use style=\"stroke:#000000;stroke-width:0.8;\" x=\"434.38125\" xlink:href=\"#m0e40cfea8e\" y=\"239.758125\"/>\r\n      </g>\r\n     </g>\r\n     <g id=\"text_11\">\r\n      <!-- economy_retro -->\r\n      <g transform=\"translate(436.8625 321.608125)rotate(-90)scale(0.1 -0.1)\">\r\n       <use xlink:href=\"#DejaVuSans-65\"/>\r\n       <use x=\"61.523438\" xlink:href=\"#DejaVuSans-63\"/>\r\n       <use x=\"116.503906\" xlink:href=\"#DejaVuSans-6f\"/>\r\n       <use x=\"177.685547\" xlink:href=\"#DejaVuSans-6e\"/>\r\n       <use x=\"241.064453\" xlink:href=\"#DejaVuSans-6f\"/>\r\n       <use x=\"302.246094\" xlink:href=\"#DejaVuSans-6d\"/>\r\n       <use x=\"399.658203\" xlink:href=\"#DejaVuSans-79\"/>\r\n       <use x=\"458.837891\" xlink:href=\"#DejaVuSans-5f\"/>\r\n       <use x=\"508.837891\" xlink:href=\"#DejaVuSans-72\"/>\r\n       <use x=\"547.701172\" xlink:href=\"#DejaVuSans-65\"/>\r\n       <use x=\"609.224609\" xlink:href=\"#DejaVuSans-74\"/>\r\n       <use x=\"648.433594\" xlink:href=\"#DejaVuSans-72\"/>\r\n       <use x=\"687.296875\" xlink:href=\"#DejaVuSans-6f\"/>\r\n      </g>\r\n     </g>\r\n    </g>\r\n    <g id=\"xtick_12\">\r\n     <g id=\"line2d_12\">\r\n      <g>\r\n       <use style=\"stroke:#000000;stroke-width:0.8;\" x=\"471.58125\" xlink:href=\"#m0e40cfea8e\" y=\"239.758125\"/>\r\n      </g>\r\n     </g>\r\n     <g id=\"text_12\">\r\n      <!-- approval_sen1 -->\r\n      <g transform=\"translate(474.201562 319.475313)rotate(-90)scale(0.1 -0.1)\">\r\n       <defs>\r\n        <path d=\"M 794 531 \r\nL 1825 531 \r\nL 1825 4091 \r\nL 703 3866 \r\nL 703 4441 \r\nL 1819 4666 \r\nL 2450 4666 \r\nL 2450 531 \r\nL 3481 531 \r\nL 3481 0 \r\nL 794 0 \r\nL 794 531 \r\nz\r\n\" id=\"DejaVuSans-31\" transform=\"scale(0.015625)\"/>\r\n       </defs>\r\n       <use xlink:href=\"#DejaVuSans-61\"/>\r\n       <use x=\"61.279297\" xlink:href=\"#DejaVuSans-70\"/>\r\n       <use x=\"124.755859\" xlink:href=\"#DejaVuSans-70\"/>\r\n       <use x=\"188.232422\" xlink:href=\"#DejaVuSans-72\"/>\r\n       <use x=\"227.095703\" xlink:href=\"#DejaVuSans-6f\"/>\r\n       <use x=\"288.277344\" xlink:href=\"#DejaVuSans-76\"/>\r\n       <use x=\"347.457031\" xlink:href=\"#DejaVuSans-61\"/>\r\n       <use x=\"408.736328\" xlink:href=\"#DejaVuSans-6c\"/>\r\n       <use x=\"436.519531\" xlink:href=\"#DejaVuSans-5f\"/>\r\n       <use x=\"486.519531\" xlink:href=\"#DejaVuSans-73\"/>\r\n       <use x=\"538.619141\" xlink:href=\"#DejaVuSans-65\"/>\r\n       <use x=\"600.142578\" xlink:href=\"#DejaVuSans-6e\"/>\r\n       <use x=\"663.521484\" xlink:href=\"#DejaVuSans-31\"/>\r\n      </g>\r\n     </g>\r\n    </g>\r\n    <g id=\"xtick_13\">\r\n     <g id=\"line2d_13\">\r\n      <g>\r\n       <use style=\"stroke:#000000;stroke-width:0.8;\" x=\"508.78125\" xlink:href=\"#m0e40cfea8e\" y=\"239.758125\"/>\r\n      </g>\r\n     </g>\r\n     <g id=\"text_13\">\r\n      <!-- approval_rep -->\r\n      <g transform=\"translate(511.401563 311.800313)rotate(-90)scale(0.1 -0.1)\">\r\n       <use xlink:href=\"#DejaVuSans-61\"/>\r\n       <use x=\"61.279297\" xlink:href=\"#DejaVuSans-70\"/>\r\n       <use x=\"124.755859\" xlink:href=\"#DejaVuSans-70\"/>\r\n       <use x=\"188.232422\" xlink:href=\"#DejaVuSans-72\"/>\r\n       <use x=\"227.095703\" xlink:href=\"#DejaVuSans-6f\"/>\r\n       <use x=\"288.277344\" xlink:href=\"#DejaVuSans-76\"/>\r\n       <use x=\"347.457031\" xlink:href=\"#DejaVuSans-61\"/>\r\n       <use x=\"408.736328\" xlink:href=\"#DejaVuSans-6c\"/>\r\n       <use x=\"436.519531\" xlink:href=\"#DejaVuSans-5f\"/>\r\n       <use x=\"486.519531\" xlink:href=\"#DejaVuSans-72\"/>\r\n       <use x=\"525.382812\" xlink:href=\"#DejaVuSans-65\"/>\r\n       <use x=\"586.90625\" xlink:href=\"#DejaVuSans-70\"/>\r\n      </g>\r\n     </g>\r\n    </g>\r\n    <g id=\"xtick_14\">\r\n     <g id=\"line2d_14\">\r\n      <g>\r\n       <use style=\"stroke:#000000;stroke-width:0.8;\" x=\"545.98125\" xlink:href=\"#m0e40cfea8e\" y=\"239.758125\"/>\r\n      </g>\r\n     </g>\r\n     <g id=\"text_14\">\r\n      <!-- marstat -->\r\n      <g transform=\"translate(548.740625 285.915938)rotate(-90)scale(0.1 -0.1)\">\r\n       <use xlink:href=\"#DejaVuSans-6d\"/>\r\n       <use x=\"97.412109\" xlink:href=\"#DejaVuSans-61\"/>\r\n       <use x=\"158.691406\" xlink:href=\"#DejaVuSans-72\"/>\r\n       <use x=\"199.804688\" xlink:href=\"#DejaVuSans-73\"/>\r\n       <use x=\"251.904297\" xlink:href=\"#DejaVuSans-74\"/>\r\n       <use x=\"291.113281\" xlink:href=\"#DejaVuSans-61\"/>\r\n       <use x=\"352.392578\" xlink:href=\"#DejaVuSans-74\"/>\r\n      </g>\r\n     </g>\r\n    </g>\r\n    <g id=\"xtick_15\">\r\n     <g id=\"line2d_15\">\r\n      <g>\r\n       <use style=\"stroke:#000000;stroke-width:0.8;\" x=\"583.18125\" xlink:href=\"#m0e40cfea8e\" y=\"239.758125\"/>\r\n      </g>\r\n     </g>\r\n     <g id=\"text_15\">\r\n      <!-- approval_gov -->\r\n      <g transform=\"translate(585.801562 313.79875)rotate(-90)scale(0.1 -0.1)\">\r\n       <use xlink:href=\"#DejaVuSans-61\"/>\r\n       <use x=\"61.279297\" xlink:href=\"#DejaVuSans-70\"/>\r\n       <use x=\"124.755859\" xlink:href=\"#DejaVuSans-70\"/>\r\n       <use x=\"188.232422\" xlink:href=\"#DejaVuSans-72\"/>\r\n       <use x=\"227.095703\" xlink:href=\"#DejaVuSans-6f\"/>\r\n       <use x=\"288.277344\" xlink:href=\"#DejaVuSans-76\"/>\r\n       <use x=\"347.457031\" xlink:href=\"#DejaVuSans-61\"/>\r\n       <use x=\"408.736328\" xlink:href=\"#DejaVuSans-6c\"/>\r\n       <use x=\"436.519531\" xlink:href=\"#DejaVuSans-5f\"/>\r\n       <use x=\"486.519531\" xlink:href=\"#DejaVuSans-67\"/>\r\n       <use x=\"549.996094\" xlink:href=\"#DejaVuSans-6f\"/>\r\n       <use x=\"611.177734\" xlink:href=\"#DejaVuSans-76\"/>\r\n      </g>\r\n     </g>\r\n    </g>\r\n    <g id=\"xtick_16\">\r\n     <g id=\"line2d_16\">\r\n      <g>\r\n       <use style=\"stroke:#000000;stroke-width:0.8;\" x=\"620.38125\" xlink:href=\"#m0e40cfea8e\" y=\"239.758125\"/>\r\n      </g>\r\n     </g>\r\n     <g id=\"text_16\">\r\n      <!-- religion -->\r\n      <g transform=\"translate(623.140625 283.93625)rotate(-90)scale(0.1 -0.1)\">\r\n       <use xlink:href=\"#DejaVuSans-72\"/>\r\n       <use x=\"38.863281\" xlink:href=\"#DejaVuSans-65\"/>\r\n       <use x=\"100.386719\" xlink:href=\"#DejaVuSans-6c\"/>\r\n       <use x=\"128.169922\" xlink:href=\"#DejaVuSans-69\"/>\r\n       <use x=\"155.953125\" xlink:href=\"#DejaVuSans-67\"/>\r\n       <use x=\"219.429688\" xlink:href=\"#DejaVuSans-69\"/>\r\n       <use x=\"247.212891\" xlink:href=\"#DejaVuSans-6f\"/>\r\n       <use x=\"308.394531\" xlink:href=\"#DejaVuSans-6e\"/>\r\n      </g>\r\n     </g>\r\n    </g>\r\n    <g id=\"xtick_17\">\r\n     <g id=\"line2d_17\">\r\n      <g>\r\n       <use style=\"stroke:#000000;stroke-width:0.8;\" x=\"657.58125\" xlink:href=\"#m0e40cfea8e\" y=\"239.758125\"/>\r\n      </g>\r\n     </g>\r\n     <g id=\"text_17\">\r\n      <!-- employ -->\r\n      <g transform=\"translate(660.340625 283.815938)rotate(-90)scale(0.1 -0.1)\">\r\n       <use xlink:href=\"#DejaVuSans-65\"/>\r\n       <use x=\"61.523438\" xlink:href=\"#DejaVuSans-6d\"/>\r\n       <use x=\"158.935547\" xlink:href=\"#DejaVuSans-70\"/>\r\n       <use x=\"222.412109\" xlink:href=\"#DejaVuSans-6c\"/>\r\n       <use x=\"250.195312\" xlink:href=\"#DejaVuSans-6f\"/>\r\n       <use x=\"311.376953\" xlink:href=\"#DejaVuSans-79\"/>\r\n      </g>\r\n     </g>\r\n    </g>\r\n    <g id=\"xtick_18\">\r\n     <g id=\"line2d_18\">\r\n      <g>\r\n       <use style=\"stroke:#000000;stroke-width:0.8;\" x=\"694.78125\" xlink:href=\"#m0e40cfea8e\" y=\"239.758125\"/>\r\n      </g>\r\n     </g>\r\n     <g id=\"text_18\">\r\n      <!-- gender -->\r\n      <g transform=\"translate(697.540625 282.209688)rotate(-90)scale(0.1 -0.1)\">\r\n       <use xlink:href=\"#DejaVuSans-67\"/>\r\n       <use x=\"63.476562\" xlink:href=\"#DejaVuSans-65\"/>\r\n       <use x=\"125\" xlink:href=\"#DejaVuSans-6e\"/>\r\n       <use x=\"188.378906\" xlink:href=\"#DejaVuSans-64\"/>\r\n       <use x=\"251.855469\" xlink:href=\"#DejaVuSans-65\"/>\r\n       <use x=\"313.378906\" xlink:href=\"#DejaVuSans-72\"/>\r\n      </g>\r\n     </g>\r\n    </g>\r\n   </g>\r\n   <g id=\"matplotlib.axis_2\">\r\n    <g id=\"ytick_1\">\r\n     <g id=\"line2d_19\">\r\n      <defs>\r\n       <path d=\"M 0 0 \r\nL -3.5 0 \r\n\" id=\"mb050646bb8\" style=\"stroke:#000000;stroke-width:0.8;\"/>\r\n      </defs>\r\n      <g>\r\n       <use style=\"stroke:#000000;stroke-width:0.8;\" x=\"43.78125\" xlink:href=\"#mb050646bb8\" y=\"239.758125\"/>\r\n      </g>\r\n     </g>\r\n     <g id=\"text_19\">\r\n      <!-- 0.0 -->\r\n      <g transform=\"translate(20.878125 243.557344)scale(0.1 -0.1)\">\r\n       <defs>\r\n        <path d=\"M 2034 4250 \r\nQ 1547 4250 1301 3770 \r\nQ 1056 3291 1056 2328 \r\nQ 1056 1369 1301 889 \r\nQ 1547 409 2034 409 \r\nQ 2525 409 2770 889 \r\nQ 3016 1369 3016 2328 \r\nQ 3016 3291 2770 3770 \r\nQ 2525 4250 2034 4250 \r\nz\r\nM 2034 4750 \r\nQ 2819 4750 3233 4129 \r\nQ 3647 3509 3647 2328 \r\nQ 3647 1150 3233 529 \r\nQ 2819 -91 2034 -91 \r\nQ 1250 -91 836 529 \r\nQ 422 1150 422 2328 \r\nQ 422 3509 836 4129 \r\nQ 1250 4750 2034 4750 \r\nz\r\n\" id=\"DejaVuSans-30\" transform=\"scale(0.015625)\"/>\r\n        <path d=\"M 684 794 \r\nL 1344 794 \r\nL 1344 0 \r\nL 684 0 \r\nL 684 794 \r\nz\r\n\" id=\"DejaVuSans-2e\" transform=\"scale(0.015625)\"/>\r\n       </defs>\r\n       <use xlink:href=\"#DejaVuSans-30\"/>\r\n       <use x=\"63.623047\" xlink:href=\"#DejaVuSans-2e\"/>\r\n       <use x=\"95.410156\" xlink:href=\"#DejaVuSans-30\"/>\r\n      </g>\r\n     </g>\r\n    </g>\r\n    <g id=\"ytick_2\">\r\n     <g id=\"line2d_20\">\r\n      <g>\r\n       <use style=\"stroke:#000000;stroke-width:0.8;\" x=\"43.78125\" xlink:href=\"#mb050646bb8\" y=\"209.162548\"/>\r\n      </g>\r\n     </g>\r\n     <g id=\"text_20\">\r\n      <!-- 0.1 -->\r\n      <g transform=\"translate(20.878125 212.961767)scale(0.1 -0.1)\">\r\n       <use xlink:href=\"#DejaVuSans-30\"/>\r\n       <use x=\"63.623047\" xlink:href=\"#DejaVuSans-2e\"/>\r\n       <use x=\"95.410156\" xlink:href=\"#DejaVuSans-31\"/>\r\n      </g>\r\n     </g>\r\n    </g>\r\n    <g id=\"ytick_3\">\r\n     <g id=\"line2d_21\">\r\n      <g>\r\n       <use style=\"stroke:#000000;stroke-width:0.8;\" x=\"43.78125\" xlink:href=\"#mb050646bb8\" y=\"178.566971\"/>\r\n      </g>\r\n     </g>\r\n     <g id=\"text_21\">\r\n      <!-- 0.2 -->\r\n      <g transform=\"translate(20.878125 182.366189)scale(0.1 -0.1)\">\r\n       <use xlink:href=\"#DejaVuSans-30\"/>\r\n       <use x=\"63.623047\" xlink:href=\"#DejaVuSans-2e\"/>\r\n       <use x=\"95.410156\" xlink:href=\"#DejaVuSans-32\"/>\r\n      </g>\r\n     </g>\r\n    </g>\r\n    <g id=\"ytick_4\">\r\n     <g id=\"line2d_22\">\r\n      <g>\r\n       <use style=\"stroke:#000000;stroke-width:0.8;\" x=\"43.78125\" xlink:href=\"#mb050646bb8\" y=\"147.971394\"/>\r\n      </g>\r\n     </g>\r\n     <g id=\"text_22\">\r\n      <!-- 0.3 -->\r\n      <g transform=\"translate(20.878125 151.770612)scale(0.1 -0.1)\">\r\n       <use xlink:href=\"#DejaVuSans-30\"/>\r\n       <use x=\"63.623047\" xlink:href=\"#DejaVuSans-2e\"/>\r\n       <use x=\"95.410156\" xlink:href=\"#DejaVuSans-33\"/>\r\n      </g>\r\n     </g>\r\n    </g>\r\n    <g id=\"ytick_5\">\r\n     <g id=\"line2d_23\">\r\n      <g>\r\n       <use style=\"stroke:#000000;stroke-width:0.8;\" x=\"43.78125\" xlink:href=\"#mb050646bb8\" y=\"117.375816\"/>\r\n      </g>\r\n     </g>\r\n     <g id=\"text_23\">\r\n      <!-- 0.4 -->\r\n      <g transform=\"translate(20.878125 121.175035)scale(0.1 -0.1)\">\r\n       <defs>\r\n        <path d=\"M 2419 4116 \r\nL 825 1625 \r\nL 2419 1625 \r\nL 2419 4116 \r\nz\r\nM 2253 4666 \r\nL 3047 4666 \r\nL 3047 1625 \r\nL 3713 1625 \r\nL 3713 1100 \r\nL 3047 1100 \r\nL 3047 0 \r\nL 2419 0 \r\nL 2419 1100 \r\nL 313 1100 \r\nL 313 1709 \r\nL 2253 4666 \r\nz\r\n\" id=\"DejaVuSans-34\" transform=\"scale(0.015625)\"/>\r\n       </defs>\r\n       <use xlink:href=\"#DejaVuSans-30\"/>\r\n       <use x=\"63.623047\" xlink:href=\"#DejaVuSans-2e\"/>\r\n       <use x=\"95.410156\" xlink:href=\"#DejaVuSans-34\"/>\r\n      </g>\r\n     </g>\r\n    </g>\r\n    <g id=\"ytick_6\">\r\n     <g id=\"line2d_24\">\r\n      <g>\r\n       <use style=\"stroke:#000000;stroke-width:0.8;\" x=\"43.78125\" xlink:href=\"#mb050646bb8\" y=\"86.780239\"/>\r\n      </g>\r\n     </g>\r\n     <g id=\"text_24\">\r\n      <!-- 0.5 -->\r\n      <g transform=\"translate(20.878125 90.579458)scale(0.1 -0.1)\">\r\n       <use xlink:href=\"#DejaVuSans-30\"/>\r\n       <use x=\"63.623047\" xlink:href=\"#DejaVuSans-2e\"/>\r\n       <use x=\"95.410156\" xlink:href=\"#DejaVuSans-35\"/>\r\n      </g>\r\n     </g>\r\n    </g>\r\n    <g id=\"ytick_7\">\r\n     <g id=\"line2d_25\">\r\n      <g>\r\n       <use style=\"stroke:#000000;stroke-width:0.8;\" x=\"43.78125\" xlink:href=\"#mb050646bb8\" y=\"56.184662\"/>\r\n      </g>\r\n     </g>\r\n     <g id=\"text_25\">\r\n      <!-- 0.6 -->\r\n      <g transform=\"translate(20.878125 59.983881)scale(0.1 -0.1)\">\r\n       <defs>\r\n        <path d=\"M 2113 2584 \r\nQ 1688 2584 1439 2293 \r\nQ 1191 2003 1191 1497 \r\nQ 1191 994 1439 701 \r\nQ 1688 409 2113 409 \r\nQ 2538 409 2786 701 \r\nQ 3034 994 3034 1497 \r\nQ 3034 2003 2786 2293 \r\nQ 2538 2584 2113 2584 \r\nz\r\nM 3366 4563 \r\nL 3366 3988 \r\nQ 3128 4100 2886 4159 \r\nQ 2644 4219 2406 4219 \r\nQ 1781 4219 1451 3797 \r\nQ 1122 3375 1075 2522 \r\nQ 1259 2794 1537 2939 \r\nQ 1816 3084 2150 3084 \r\nQ 2853 3084 3261 2657 \r\nQ 3669 2231 3669 1497 \r\nQ 3669 778 3244 343 \r\nQ 2819 -91 2113 -91 \r\nQ 1303 -91 875 529 \r\nQ 447 1150 447 2328 \r\nQ 447 3434 972 4092 \r\nQ 1497 4750 2381 4750 \r\nQ 2619 4750 2861 4703 \r\nQ 3103 4656 3366 4563 \r\nz\r\n\" id=\"DejaVuSans-36\" transform=\"scale(0.015625)\"/>\r\n       </defs>\r\n       <use xlink:href=\"#DejaVuSans-30\"/>\r\n       <use x=\"63.623047\" xlink:href=\"#DejaVuSans-2e\"/>\r\n       <use x=\"95.410156\" xlink:href=\"#DejaVuSans-36\"/>\r\n      </g>\r\n     </g>\r\n    </g>\r\n    <g id=\"ytick_8\">\r\n     <g id=\"line2d_26\">\r\n      <g>\r\n       <use style=\"stroke:#000000;stroke-width:0.8;\" x=\"43.78125\" xlink:href=\"#mb050646bb8\" y=\"25.589085\"/>\r\n      </g>\r\n     </g>\r\n     <g id=\"text_26\">\r\n      <!-- 0.7 -->\r\n      <g transform=\"translate(20.878125 29.388304)scale(0.1 -0.1)\">\r\n       <defs>\r\n        <path d=\"M 525 4666 \r\nL 3525 4666 \r\nL 3525 4397 \r\nL 1831 0 \r\nL 1172 0 \r\nL 2766 4134 \r\nL 525 4134 \r\nL 525 4666 \r\nz\r\n\" id=\"DejaVuSans-37\" transform=\"scale(0.015625)\"/>\r\n       </defs>\r\n       <use xlink:href=\"#DejaVuSans-30\"/>\r\n       <use x=\"63.623047\" xlink:href=\"#DejaVuSans-2e\"/>\r\n       <use x=\"95.410156\" xlink:href=\"#DejaVuSans-37\"/>\r\n      </g>\r\n     </g>\r\n    </g>\r\n    <g id=\"text_27\">\r\n     <!-- Feature Importance Score -->\r\n     <g transform=\"translate(14.798438 195.761563)rotate(-90)scale(0.1 -0.1)\">\r\n      <defs>\r\n       <path d=\"M 628 4666 \r\nL 3309 4666 \r\nL 3309 4134 \r\nL 1259 4134 \r\nL 1259 2759 \r\nL 3109 2759 \r\nL 3109 2228 \r\nL 1259 2228 \r\nL 1259 0 \r\nL 628 0 \r\nL 628 4666 \r\nz\r\n\" id=\"DejaVuSans-46\" transform=\"scale(0.015625)\"/>\r\n       <path id=\"DejaVuSans-20\" transform=\"scale(0.015625)\"/>\r\n       <path d=\"M 628 4666 \r\nL 1259 4666 \r\nL 1259 0 \r\nL 628 0 \r\nL 628 4666 \r\nz\r\n\" id=\"DejaVuSans-49\" transform=\"scale(0.015625)\"/>\r\n       <path d=\"M 3425 4513 \r\nL 3425 3897 \r\nQ 3066 4069 2747 4153 \r\nQ 2428 4238 2131 4238 \r\nQ 1616 4238 1336 4038 \r\nQ 1056 3838 1056 3469 \r\nQ 1056 3159 1242 3001 \r\nQ 1428 2844 1947 2747 \r\nL 2328 2669 \r\nQ 3034 2534 3370 2195 \r\nQ 3706 1856 3706 1288 \r\nQ 3706 609 3251 259 \r\nQ 2797 -91 1919 -91 \r\nQ 1588 -91 1214 -16 \r\nQ 841 59 441 206 \r\nL 441 856 \r\nQ 825 641 1194 531 \r\nQ 1563 422 1919 422 \r\nQ 2459 422 2753 634 \r\nQ 3047 847 3047 1241 \r\nQ 3047 1584 2836 1778 \r\nQ 2625 1972 2144 2069 \r\nL 1759 2144 \r\nQ 1053 2284 737 2584 \r\nQ 422 2884 422 3419 \r\nQ 422 4038 858 4394 \r\nQ 1294 4750 2059 4750 \r\nQ 2388 4750 2728 4690 \r\nQ 3069 4631 3425 4513 \r\nz\r\n\" id=\"DejaVuSans-53\" transform=\"scale(0.015625)\"/>\r\n      </defs>\r\n      <use xlink:href=\"#DejaVuSans-46\"/>\r\n      <use x=\"52.019531\" xlink:href=\"#DejaVuSans-65\"/>\r\n      <use x=\"113.542969\" xlink:href=\"#DejaVuSans-61\"/>\r\n      <use x=\"174.822266\" xlink:href=\"#DejaVuSans-74\"/>\r\n      <use x=\"214.03125\" xlink:href=\"#DejaVuSans-75\"/>\r\n      <use x=\"277.410156\" xlink:href=\"#DejaVuSans-72\"/>\r\n      <use x=\"316.273438\" xlink:href=\"#DejaVuSans-65\"/>\r\n      <use x=\"377.796875\" xlink:href=\"#DejaVuSans-20\"/>\r\n      <use x=\"409.583984\" xlink:href=\"#DejaVuSans-49\"/>\r\n      <use x=\"439.076172\" xlink:href=\"#DejaVuSans-6d\"/>\r\n      <use x=\"536.488281\" xlink:href=\"#DejaVuSans-70\"/>\r\n      <use x=\"599.964844\" xlink:href=\"#DejaVuSans-6f\"/>\r\n      <use x=\"661.146484\" xlink:href=\"#DejaVuSans-72\"/>\r\n      <use x=\"702.259766\" xlink:href=\"#DejaVuSans-74\"/>\r\n      <use x=\"741.46875\" xlink:href=\"#DejaVuSans-61\"/>\r\n      <use x=\"802.748047\" xlink:href=\"#DejaVuSans-6e\"/>\r\n      <use x=\"866.126953\" xlink:href=\"#DejaVuSans-63\"/>\r\n      <use x=\"921.107422\" xlink:href=\"#DejaVuSans-65\"/>\r\n      <use x=\"982.630859\" xlink:href=\"#DejaVuSans-20\"/>\r\n      <use x=\"1014.417969\" xlink:href=\"#DejaVuSans-53\"/>\r\n      <use x=\"1077.894531\" xlink:href=\"#DejaVuSans-63\"/>\r\n      <use x=\"1132.875\" xlink:href=\"#DejaVuSans-6f\"/>\r\n      <use x=\"1194.056641\" xlink:href=\"#DejaVuSans-72\"/>\r\n      <use x=\"1232.919922\" xlink:href=\"#DejaVuSans-65\"/>\r\n     </g>\r\n    </g>\r\n   </g>\r\n   <g id=\"patch_21\">\r\n    <path d=\"M 43.78125 239.758125 \r\nL 43.78125 22.318125 \r\n\" style=\"fill:none;stroke:#000000;stroke-linecap:square;stroke-linejoin:miter;stroke-width:0.8;\"/>\r\n   </g>\r\n   <g id=\"patch_22\">\r\n    <path d=\"M 713.38125 239.758125 \r\nL 713.38125 22.318125 \r\n\" style=\"fill:none;stroke:#000000;stroke-linecap:square;stroke-linejoin:miter;stroke-width:0.8;\"/>\r\n   </g>\r\n   <g id=\"patch_23\">\r\n    <path d=\"M 43.78125 239.758125 \r\nL 713.38125 239.758125 \r\n\" style=\"fill:none;stroke:#000000;stroke-linecap:square;stroke-linejoin:miter;stroke-width:0.8;\"/>\r\n   </g>\r\n   <g id=\"patch_24\">\r\n    <path d=\"M 43.78125 22.318125 \r\nL 713.38125 22.318125 \r\n\" style=\"fill:none;stroke:#000000;stroke-linecap:square;stroke-linejoin:miter;stroke-width:0.8;\"/>\r\n   </g>\r\n   <g id=\"text_28\">\r\n    <!-- Feature Importances -->\r\n    <g transform=\"translate(316.497187 16.318125)scale(0.12 -0.12)\">\r\n     <use xlink:href=\"#DejaVuSans-46\"/>\r\n     <use x=\"52.019531\" xlink:href=\"#DejaVuSans-65\"/>\r\n     <use x=\"113.542969\" xlink:href=\"#DejaVuSans-61\"/>\r\n     <use x=\"174.822266\" xlink:href=\"#DejaVuSans-74\"/>\r\n     <use x=\"214.03125\" xlink:href=\"#DejaVuSans-75\"/>\r\n     <use x=\"277.410156\" xlink:href=\"#DejaVuSans-72\"/>\r\n     <use x=\"316.273438\" xlink:href=\"#DejaVuSans-65\"/>\r\n     <use x=\"377.796875\" xlink:href=\"#DejaVuSans-20\"/>\r\n     <use x=\"409.583984\" xlink:href=\"#DejaVuSans-49\"/>\r\n     <use x=\"439.076172\" xlink:href=\"#DejaVuSans-6d\"/>\r\n     <use x=\"536.488281\" xlink:href=\"#DejaVuSans-70\"/>\r\n     <use x=\"599.964844\" xlink:href=\"#DejaVuSans-6f\"/>\r\n     <use x=\"661.146484\" xlink:href=\"#DejaVuSans-72\"/>\r\n     <use x=\"702.259766\" xlink:href=\"#DejaVuSans-74\"/>\r\n     <use x=\"741.46875\" xlink:href=\"#DejaVuSans-61\"/>\r\n     <use x=\"802.748047\" xlink:href=\"#DejaVuSans-6e\"/>\r\n     <use x=\"866.126953\" xlink:href=\"#DejaVuSans-63\"/>\r\n     <use x=\"921.107422\" xlink:href=\"#DejaVuSans-65\"/>\r\n     <use x=\"982.630859\" xlink:href=\"#DejaVuSans-73\"/>\r\n    </g>\r\n   </g>\r\n  </g>\r\n </g>\r\n <defs>\r\n  <clipPath id=\"p260ad4d5f9\">\r\n   <rect height=\"217.44\" width=\"669.6\" x=\"43.78125\" y=\"22.318125\"/>\r\n  </clipPath>\r\n </defs>\r\n</svg>\r\n",
      "image/png": "[encoded data removed]"
     },
     "metadata": {
      "needs_background": "light"
     }
    }
   ],
   "source": [
    "import warnings\n",
    "warnings.filterwarnings(\"ignore\")\n",
    "modelfit(xgb, X_train, y_train, X_test, y_test, performCV =False)"
   ]
  },
  {
   "cell_type": "code",
   "execution_count": 54,
   "metadata": {},
   "outputs": [
    {
     "output_type": "error",
     "ename": "AttributeError",
     "evalue": "'XGBClassifier' object has no attribute 'DMatrix'",
     "traceback": [
      "\u001b[1;31m---------------------------------------------------------------------------\u001b[0m",
      "\u001b[1;31mAttributeError\u001b[0m                            Traceback (most recent call last)",
      "\u001b[1;32m<ipython-input-54-061a85758ec4>\u001b[0m in \u001b[0;36m<module>\u001b[1;34m\u001b[0m\n\u001b[0;32m      1\u001b[0m \u001b[0mpredictors\u001b[0m \u001b[1;33m=\u001b[0m \u001b[1;33m[\u001b[0m\u001b[0mx\u001b[0m \u001b[1;32mfor\u001b[0m \u001b[0mx\u001b[0m \u001b[1;32min\u001b[0m \u001b[0mX_train\u001b[0m\u001b[1;33m.\u001b[0m\u001b[0mcolumns\u001b[0m\u001b[1;33m]\u001b[0m\u001b[1;33m\u001b[0m\u001b[1;33m\u001b[0m\u001b[0m\n\u001b[1;32m----> 2\u001b[1;33m \u001b[0mmodelfit\u001b[0m\u001b[1;33m(\u001b[0m\u001b[0mxgb\u001b[0m\u001b[1;33m,\u001b[0m \u001b[0mX_train\u001b[0m\u001b[1;33m,\u001b[0m \u001b[0my_train\u001b[0m\u001b[1;33m,\u001b[0m \u001b[0mpredictors\u001b[0m\u001b[1;33m)\u001b[0m\u001b[1;33m\u001b[0m\u001b[1;33m\u001b[0m\u001b[0m\n\u001b[0m",
      "\u001b[1;32m<ipython-input-37-374615528767>\u001b[0m in \u001b[0;36mmodelfit\u001b[1;34m(alg, X_trin, y_train, predictors, useTrainCV, cv_folds, early_stopping_rounds)\u001b[0m\n\u001b[0;32m      3\u001b[0m     \u001b[1;32mif\u001b[0m \u001b[0museTrainCV\u001b[0m\u001b[1;33m:\u001b[0m\u001b[1;33m\u001b[0m\u001b[1;33m\u001b[0m\u001b[0m\n\u001b[0;32m      4\u001b[0m         \u001b[0mxgb_param\u001b[0m \u001b[1;33m=\u001b[0m \u001b[0malg\u001b[0m\u001b[1;33m.\u001b[0m\u001b[0mget_xgb_params\u001b[0m\u001b[1;33m(\u001b[0m\u001b[1;33m)\u001b[0m\u001b[1;33m\u001b[0m\u001b[1;33m\u001b[0m\u001b[0m\n\u001b[1;32m----> 5\u001b[1;33m         \u001b[0mxgtrain\u001b[0m \u001b[1;33m=\u001b[0m \u001b[0mxgb\u001b[0m\u001b[1;33m.\u001b[0m\u001b[0mDMatrix\u001b[0m\u001b[1;33m(\u001b[0m\u001b[0mX_train\u001b[0m\u001b[1;33m[\u001b[0m\u001b[0mpredictors\u001b[0m\u001b[1;33m]\u001b[0m\u001b[1;33m.\u001b[0m\u001b[0mvalues\u001b[0m\u001b[1;33m,\u001b[0m \u001b[0mlabel\u001b[0m\u001b[1;33m=\u001b[0m\u001b[0my_train\u001b[0m\u001b[1;33m.\u001b[0m\u001b[0mvalues\u001b[0m\u001b[1;33m)\u001b[0m\u001b[1;33m\u001b[0m\u001b[1;33m\u001b[0m\u001b[0m\n\u001b[0m\u001b[0;32m      6\u001b[0m         cvresult = xgb.cv(xgb_param, xgtrain, num_boost_round=alg.get_params()['n_estimators'], nfold=cv_folds,\n\u001b[0;32m      7\u001b[0m             metrics='auc', early_stopping_rounds=early_stopping_rounds)\n",
      "\u001b[1;31mAttributeError\u001b[0m: 'XGBClassifier' object has no attribute 'DMatrix'"
     ]
    }
   ],
   "source": [
    "predictors = [x for x in X_train.columns]\n",
    "modelfit(xgb, X_train, y_train, predictors)"
   ]
  },
  {
   "cell_type": "code",
   "execution_count": null,
   "metadata": {},
   "outputs": [],
   "source": [
    "## for each unique year:\n",
    "### include only that year\n",
    "### dropna() or na_columns\n",
    "### train_test_split data\n",
    "### fit params\n",
    "### provide metrics for total\n",
    "### for each column:\n",
    "#### print column\n",
    "#### leave out column\n",
    "#### fit based off params \n",
    "#### print metrics"
   ]
  }
 ]
}