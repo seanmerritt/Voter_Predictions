{
 "metadata": {
  "language_info": {
   "codemirror_mode": {
    "name": "ipython",
    "version": 3
   },
   "file_extension": ".py",
   "mimetype": "text/x-python",
   "name": "python",
   "nbconvert_exporter": "python",
   "pygments_lexer": "ipython3",
   "version": "3.8.5"
  },
  "orig_nbformat": 2,
  "kernelspec": {
   "name": "python385jvsc74a57bd08c5cda50cba810aeb9787dd9e9da78a8d8f3bc5042501604c5ef8eb6a87ef604",
   "display_name": "Python 3.8.5 64-bit ('base': conda)"
  }
 },
 "nbformat": 4,
 "nbformat_minor": 2,
 "cells": [
  {
   "cell_type": "code",
   "execution_count": 1,
   "metadata": {},
   "outputs": [],
   "source": [
    "import sklearn as sk\n",
    "from imblearn.over_sampling import SMOTENC\n",
    "import pandas as pd\n",
    "import numpy as np\n",
    "from sklearn.linear_model import LogisticRegression\n",
    "from sklearn.tree import DecisionTreeClassifier\n",
    "from sklearn.ensemble import RandomForestClassifier\n",
    "from sklearn.ensemble import GradientBoostingClassifier\n",
    "from sklearn.ensemble import VotingClassifier, AdaBoostClassifier\n",
    "from sklearn.model_selection import GridSearchCV\n",
    "from sklearn.decomposition import PCA\n",
    "from sklearn.metrics import roc_curve, auc"
   ]
  },
  {
   "cell_type": "code",
   "execution_count": 2,
   "metadata": {},
   "outputs": [],
   "source": [
    "dat = pd.read_csv('C:/Users/seanm/OneDrive/Documents/voting_data.csv')\n",
    "y = dat['voted']\n",
    "X = dat.drop('voted', axis = 1)\n",
    "pca_x = X.iloc[:,1:-4 ]\n",
    "qual_x = X.iloc[:, -4:-1]"
   ]
  },
  {
   "cell_type": "code",
   "execution_count": 3,
   "metadata": {},
   "outputs": [
    {
     "output_type": "execute_result",
     "data": {
      "text/plain": [
       "             0         1         2         3         4         5  Gender  \\\n",
       "0    -0.250264  1.203275 -2.480416 -3.603004 -0.026861 -1.871198       2   \n",
       "1    -2.403204 -1.247474 -0.781838 -1.296684  1.161757 -0.968130       2   \n",
       "2    -3.530089  0.826738  1.624377  0.517770  0.819053 -0.077010       1   \n",
       "3    -0.617937  0.454683 -0.128578 -0.650439  0.835397 -1.356753       1   \n",
       "4    -3.960786 -0.202000 -0.932217 -0.461777 -0.019459 -0.187562       1   \n",
       "...        ...       ...       ...       ...       ...       ...     ...   \n",
       "7773 -2.813169 -3.228441  2.209271 -0.470306 -3.189692 -0.219417       2   \n",
       "7774 -2.369579  0.615677  0.470204 -0.831498 -0.719006 -0.158591       2   \n",
       "7775 -2.889763 -4.086257  1.604395 -0.363530 -3.225466  0.470115       2   \n",
       "7776 -2.150269  3.912662  3.487386  0.277198 -0.446088  0.093635       1   \n",
       "7777 -0.928524  0.548287  0.044288  0.827795 -0.120263 -0.847518       2   \n",
       "\n",
       "      Race  Education  \n",
       "0        1          5  \n",
       "1        1          3  \n",
       "2        1          2  \n",
       "3        1          3  \n",
       "4        1          5  \n",
       "...    ...        ...  \n",
       "7773     2          2  \n",
       "7774     1          3  \n",
       "7775     1          2  \n",
       "7776     1          3  \n",
       "7777     1          5  \n",
       "\n",
       "[7778 rows x 9 columns]"
      ],
      "text/html": "<div>\n<style scoped>\n    .dataframe tbody tr th:only-of-type {\n        vertical-align: middle;\n    }\n\n    .dataframe tbody tr th {\n        vertical-align: top;\n    }\n\n    .dataframe thead th {\n        text-align: right;\n    }\n</style>\n<table border=\"1\" class=\"dataframe\">\n  <thead>\n    <tr style=\"text-align: right;\">\n      <th></th>\n      <th>0</th>\n      <th>1</th>\n      <th>2</th>\n      <th>3</th>\n      <th>4</th>\n      <th>5</th>\n      <th>Gender</th>\n      <th>Race</th>\n      <th>Education</th>\n    </tr>\n  </thead>\n  <tbody>\n    <tr>\n      <th>0</th>\n      <td>-0.250264</td>\n      <td>1.203275</td>\n      <td>-2.480416</td>\n      <td>-3.603004</td>\n      <td>-0.026861</td>\n      <td>-1.871198</td>\n      <td>2</td>\n      <td>1</td>\n      <td>5</td>\n    </tr>\n    <tr>\n      <th>1</th>\n      <td>-2.403204</td>\n      <td>-1.247474</td>\n      <td>-0.781838</td>\n      <td>-1.296684</td>\n      <td>1.161757</td>\n      <td>-0.968130</td>\n      <td>2</td>\n      <td>1</td>\n      <td>3</td>\n    </tr>\n    <tr>\n      <th>2</th>\n      <td>-3.530089</td>\n      <td>0.826738</td>\n      <td>1.624377</td>\n      <td>0.517770</td>\n      <td>0.819053</td>\n      <td>-0.077010</td>\n      <td>1</td>\n      <td>1</td>\n      <td>2</td>\n    </tr>\n    <tr>\n      <th>3</th>\n      <td>-0.617937</td>\n      <td>0.454683</td>\n      <td>-0.128578</td>\n      <td>-0.650439</td>\n      <td>0.835397</td>\n      <td>-1.356753</td>\n      <td>1</td>\n      <td>1</td>\n      <td>3</td>\n    </tr>\n    <tr>\n      <th>4</th>\n      <td>-3.960786</td>\n      <td>-0.202000</td>\n      <td>-0.932217</td>\n      <td>-0.461777</td>\n      <td>-0.019459</td>\n      <td>-0.187562</td>\n      <td>1</td>\n      <td>1</td>\n      <td>5</td>\n    </tr>\n    <tr>\n      <th>...</th>\n      <td>...</td>\n      <td>...</td>\n      <td>...</td>\n      <td>...</td>\n      <td>...</td>\n      <td>...</td>\n      <td>...</td>\n      <td>...</td>\n      <td>...</td>\n    </tr>\n    <tr>\n      <th>7773</th>\n      <td>-2.813169</td>\n      <td>-3.228441</td>\n      <td>2.209271</td>\n      <td>-0.470306</td>\n      <td>-3.189692</td>\n      <td>-0.219417</td>\n      <td>2</td>\n      <td>2</td>\n      <td>2</td>\n    </tr>\n    <tr>\n      <th>7774</th>\n      <td>-2.369579</td>\n      <td>0.615677</td>\n      <td>0.470204</td>\n      <td>-0.831498</td>\n      <td>-0.719006</td>\n      <td>-0.158591</td>\n      <td>2</td>\n      <td>1</td>\n      <td>3</td>\n    </tr>\n    <tr>\n      <th>7775</th>\n      <td>-2.889763</td>\n      <td>-4.086257</td>\n      <td>1.604395</td>\n      <td>-0.363530</td>\n      <td>-3.225466</td>\n      <td>0.470115</td>\n      <td>2</td>\n      <td>1</td>\n      <td>2</td>\n    </tr>\n    <tr>\n      <th>7776</th>\n      <td>-2.150269</td>\n      <td>3.912662</td>\n      <td>3.487386</td>\n      <td>0.277198</td>\n      <td>-0.446088</td>\n      <td>0.093635</td>\n      <td>1</td>\n      <td>1</td>\n      <td>3</td>\n    </tr>\n    <tr>\n      <th>7777</th>\n      <td>-0.928524</td>\n      <td>0.548287</td>\n      <td>0.044288</td>\n      <td>0.827795</td>\n      <td>-0.120263</td>\n      <td>-0.847518</td>\n      <td>2</td>\n      <td>1</td>\n      <td>5</td>\n    </tr>\n  </tbody>\n</table>\n<p>7778 rows × 9 columns</p>\n</div>"
     },
     "metadata": {},
     "execution_count": 3
    }
   ],
   "source": [
    "pca = PCA(n_components= 6)\n",
    "X_reduced = pca.fit_transform(pca_x)\n",
    "pca.explained_variance_ratio_\n",
    "X_projected = pd.DataFrame(X_reduced)\n",
    "#X_projected['ideology'] = X['ideology']\n",
    "X_projected['Gender'] = qual_x['gender_baseline']\n",
    "X_projected['Race'] = qual_x['race_baseline']\n",
    "X_projected['Education'] = qual_x['educ_baseline']\n",
    "X_projected"
   ]
  },
  {
   "cell_type": "code",
   "execution_count": 4,
   "metadata": {},
   "outputs": [],
   "source": [
    "#X_resampled, y_resampled = SMOTENC(categorical_features= [53,54,55]).fit_resample(X,y)\n",
    "X_resampled, y_resampled = SMOTENC(categorical_features= [6,7,8]).fit_resample(X_projected,y)"
   ]
  },
  {
   "cell_type": "code",
   "execution_count": 5,
   "metadata": {},
   "outputs": [],
   "source": [
    "X_train, X_test, y_train, y_test = sk.model_selection.train_test_split(X_resampled,y_resampled, test_size= .25, random_state= 123)"
   ]
  },
  {
   "cell_type": "code",
   "execution_count": 62,
   "metadata": {},
   "outputs": [
    {
     "output_type": "execute_result",
     "data": {
      "text/plain": [
       "array([[1372,  491],\n",
       "       [ 778, 1082]], dtype=int64)"
      ]
     },
     "metadata": {},
     "execution_count": 62
    }
   ],
   "source": [
    "tree_vote = DecisionTreeClassifier(max_depth= 5)\n",
    "tree_vote.fit(X_train,y_train)\n",
    "y_preds = tree_vote.predict(X_test)\n",
    "sk.metrics.confusion_matrix(y_test,y_preds)"
   ]
  },
  {
   "cell_type": "code",
   "execution_count": 64,
   "metadata": {},
   "outputs": [
    {
     "output_type": "execute_result",
     "data": {
      "text/plain": [
       "array([[ 229,  103],\n",
       "       [3032, 4414]], dtype=int64)"
      ]
     },
     "metadata": {},
     "execution_count": 64
    }
   ],
   "source": [
    "y_preds = tree_vote.predict(X_projected)\n",
    "sk.metrics.confusion_matrix(y,y_preds)"
   ]
  },
  {
   "cell_type": "code",
   "execution_count": 66,
   "metadata": {},
   "outputs": [
    {
     "output_type": "execute_result",
     "data": {
      "text/plain": [
       "                  0\n",
       "0          0.089031\n",
       "1          0.042574\n",
       "2          0.005515\n",
       "3          0.034382\n",
       "4          0.091541\n",
       "5          0.081114\n",
       "Gender     0.082237\n",
       "Race       0.159855\n",
       "Education  0.413752"
      ],
      "text/html": "<div>\n<style scoped>\n    .dataframe tbody tr th:only-of-type {\n        vertical-align: middle;\n    }\n\n    .dataframe tbody tr th {\n        vertical-align: top;\n    }\n\n    .dataframe thead th {\n        text-align: right;\n    }\n</style>\n<table border=\"1\" class=\"dataframe\">\n  <thead>\n    <tr style=\"text-align: right;\">\n      <th></th>\n      <th>0</th>\n    </tr>\n  </thead>\n  <tbody>\n    <tr>\n      <th>0</th>\n      <td>0.089031</td>\n    </tr>\n    <tr>\n      <th>1</th>\n      <td>0.042574</td>\n    </tr>\n    <tr>\n      <th>2</th>\n      <td>0.005515</td>\n    </tr>\n    <tr>\n      <th>3</th>\n      <td>0.034382</td>\n    </tr>\n    <tr>\n      <th>4</th>\n      <td>0.091541</td>\n    </tr>\n    <tr>\n      <th>5</th>\n      <td>0.081114</td>\n    </tr>\n    <tr>\n      <th>Gender</th>\n      <td>0.082237</td>\n    </tr>\n    <tr>\n      <th>Race</th>\n      <td>0.159855</td>\n    </tr>\n    <tr>\n      <th>Education</th>\n      <td>0.413752</td>\n    </tr>\n  </tbody>\n</table>\n</div>"
     },
     "metadata": {},
     "execution_count": 66
    }
   ],
   "source": [
    "pd.DataFrame(tree_vote.feature_importances_, X_projected.columns)"
   ]
  },
  {
   "cell_type": "code",
   "execution_count": 23,
   "metadata": {},
   "outputs": [],
   "source": [
    "log =sk.linear_model.LogisticRegression( max_iter = 1000)\n",
    "params = {'C': [1.0,100.0]}\n",
    "grid_log = GridSearchCV(log, params, cv = 5)\n",
    "grid_log.fit(X_train, y_train)\n",
    "log_C = grid_log.best_params_['C']\n"
   ]
  },
  {
   "cell_type": "code",
   "execution_count": 24,
   "metadata": {},
   "outputs": [],
   "source": [
    "tree = DecisionTreeClassifier()\n",
    "params = {'max_depth': [3,4,5,6,7,8,9,10]}\n",
    "grid_tree = GridSearchCV(tree, params, cv = 5)\n",
    "grid_tree.fit(X_train, y_train)\n",
    "tree_max_depth = grid_tree.best_params_['max_depth']"
   ]
  },
  {
   "cell_type": "code",
   "execution_count": 25,
   "metadata": {},
   "outputs": [],
   "source": [
    "rnd = RandomForestClassifier()\n",
    "params = {'max_depth': [3,4,5,6,7,8,9,10]}\n",
    "grid_rnd = GridSearchCV(rnd, params, cv = 5)\n",
    "grid_rnd.fit(X_train, y_train)\n",
    "rnd_max_depth = grid_rnd.best_params_['max_depth']"
   ]
  },
  {
   "cell_type": "code",
   "execution_count": 31,
   "metadata": {},
   "outputs": [],
   "source": [
    "svm = sk.svm.SVC(probability= True)\n",
    "params = {'C':[1,2,3,4,5]} \n",
    "grid_svm = GridSearchCV(svm, params, cv = 5)\n",
    "grid_svm.fit(X_train, y_train)\n",
    "svm_C = grid_svm.best_params_['C']"
   ]
  },
  {
   "cell_type": "code",
   "execution_count": 32,
   "metadata": {},
   "outputs": [],
   "source": [
    "gbc = GradientBoostingClassifier( learning_rate=0.1)\n",
    "params = {'n_estimators': [50,75,100,125,150],\n",
    "    'max_depth':[3,4,5,6,7,8,9,10,11,12]} \n",
    "grid_gbc = GridSearchCV(gbc, params, cv = 5)\n",
    "grid_gbc.fit(X_train, y_train)\n",
    "gbc_n_estimators = grid_gbc.best_params_['n_estimators']\n",
    "gbc_max_depth = grid_gbc.best_params_['max_depth']"
   ]
  },
  {
   "cell_type": "code",
   "execution_count": 33,
   "metadata": {},
   "outputs": [],
   "source": [
    "ada = AdaBoostClassifier(DecisionTreeClassifier(max_depth=10), algorithm= 'SAMME.R', learning_rate=0.1)\n",
    "params = {'n_estimators': [50,75,100,125,150]} \n",
    "grid_ada = GridSearchCV(ada, params, cv = 5)\n",
    "grid_ada.fit(X_train, y_train)\n",
    "ada_n_estimators = grid_ada.best_params_['n_estimators']"
   ]
  },
  {
   "cell_type": "code",
   "execution_count": 36,
   "metadata": {
    "tags": []
   },
   "outputs": [
    {
     "output_type": "execute_result",
     "data": {
      "text/plain": [
       "VotingClassifier(estimators=[('lr', LogisticRegression(max_iter=1000)),\n",
       "                             ('Tree', DecisionTreeClassifier(max_depth=10)),\n",
       "                             ('rf', RandomForestClassifier(max_depth=10)),\n",
       "                             ('SVM', SVC(C=5, probability=True)),\n",
       "                             ('boosted',\n",
       "                              GradientBoostingClassifier(max_depth=12,\n",
       "                                                         n_estimators=150)),\n",
       "                             ('ADA',\n",
       "                              AdaBoostClassifier(base_estimator=DecisionTreeClassifier(max_depth=10),\n",
       "                                                 learning_rate=0.1,\n",
       "                                                 n_estimators=150))],\n",
       "                 voting='soft')"
      ]
     },
     "metadata": {},
     "execution_count": 36
    }
   ],
   "source": [
    "log_v =sk.linear_model.LogisticRegression( max_iter = 1000, C = log_C)\n",
    "tree_v = DecisionTreeClassifier(max_depth= tree_max_depth)\n",
    "rnd_v = RandomForestClassifier(max_depth= rnd_max_depth)\n",
    "svm_v = sk.svm.SVC(probability= True, C = svm_C)\n",
    "gbc_v = GradientBoostingClassifier( learning_rate=0.1, n_estimators= gbc_n_estimators, max_depth=gbc_max_depth)\n",
    "ada_v = AdaBoostClassifier(DecisionTreeClassifier(max_depth=10), \n",
    "                                             algorithm= 'SAMME.R', \n",
    "                                                learning_rate=0.1,\n",
    "                                                n_estimators= ada_n_estimators)\n",
    "\n",
    "voter_c = VotingClassifier(estimators= [('lr',log_v), \n",
    "('Tree',tree_v), \n",
    "('rf',rnd_v),\n",
    "('SVM',svm_v),\n",
    "('boosted',gbc_v),\n",
    "('ADA',ada_v)\n",
    "], \n",
    "voting = 'soft')\n",
    "\n",
    "\n",
    "\n",
    "voter_c.fit(X_train, y_train)\n"
   ]
  },
  {
   "cell_type": "code",
   "execution_count": 37,
   "metadata": {},
   "outputs": [
    {
     "output_type": "execute_result",
     "data": {
      "text/plain": [
       "array([[1764,   99],\n",
       "       [ 206, 1654]], dtype=int64)"
      ]
     },
     "metadata": {},
     "execution_count": 37
    }
   ],
   "source": [
    "y_preds = voter_c.predict(X_test)\n",
    "sk.metrics.confusion_matrix(y_test,y_preds)"
   ]
  },
  {
   "cell_type": "code",
   "execution_count": 38,
   "metadata": {},
   "outputs": [
    {
     "output_type": "stream",
     "name": "stdout",
     "text": [
      "0.9487951807228916 0.9680365296803652\n"
     ]
    },
    {
     "output_type": "execute_result",
     "data": {
      "text/plain": [
       "array([[ 315,   17],\n",
       "       [ 238, 7208]], dtype=int64)"
      ]
     },
     "metadata": {},
     "execution_count": 38
    }
   ],
   "source": [
    "y_preds = voter_c.predict(X_projected)\n",
    "cm = sk.metrics.confusion_matrix(y,y_preds)\n",
    "print(cm[0][0]/(cm[0][0] + cm[0][1]),cm[1][1]/(cm[1][0] + cm[1][1]))\n",
    "cm"
   ]
  },
  {
   "cell_type": "code",
   "execution_count": 40,
   "metadata": {},
   "outputs": [
    {
     "output_type": "execute_result",
     "data": {
      "text/plain": [
       "0.9584158552016284"
      ]
     },
     "metadata": {},
     "execution_count": 40
    }
   ],
   "source": [
    "\n",
    "fr, sr, threshold = roc_curve(y,y_preds)\n",
    "auc(fr,sr)"
   ]
  }
 ]
}